{
 "cells": [
  {
   "cell_type": "markdown",
   "id": "7b35fb93",
   "metadata": {},
   "source": [
    "# GSoC 2024 ML4SCI QMLHEP Task Submission"
   ]
  },
  {
   "cell_type": "markdown",
   "id": "5bccf4f2",
   "metadata": {},
   "source": [
    "**Name:** Haemanth Velmurugan <br>\n",
    "**Email:** haemanth10@gmail.com"
   ]
  },
  {
   "cell_type": "markdown",
   "id": "e00ad31f",
   "metadata": {},
   "source": [
    "### Task 5"
   ]
  },
  {
   "cell_type": "markdown",
   "id": "9ff8bd9c",
   "metadata": {},
   "source": [
    "### Quantum Graph Neural Network (QGNN) \n",
    "In task II you already worked with a classical GNN. \n",
    "* Describe a possibility for a QGNN circuit, which takes advantage of the graph representation of the data\n",
    "* Implement and draw the circuit."
   ]
  },
  {
   "cell_type": "markdown",
   "id": "df65f331",
   "metadata": {},
   "source": [
    "We shall use the ParticleNet’s data for Quark/Gluon jet classification available [here](https://zenodo.org/record/3164691#.YigdGt9MHrB) for this task as well. "
   ]
  },
  {
   "cell_type": "code",
   "execution_count": 105,
   "id": "0c1a4b64",
   "metadata": {},
   "outputs": [],
   "source": [
    "import numpy as np\n",
    "import energyflow\n",
    "from particle import Particle\n",
    "\n",
    "import torch\n",
    "import torch.nn as nn\n",
    "import pennylane as qml\n",
    "from torch_geometric.nn import GCNConv\n",
    "from torch.nn import Linear, ReLU, Sigmoid\n",
    "from torch_geometric.nn import global_mean_pool\n",
    "from torch_geometric.nn import MessagePassing\n",
    "from torch_geometric.utils import add_self_loops, degree\n",
    "from torch_geometric.data import Data\n",
    "from torch_geometric.utils import to_networkx\n",
    "from torch.nn import BCEWithLogitsLoss\n",
    "from torch.optim import Adam\n",
    "from torch_geometric.loader import DataLoader\n",
    "from tqdm import tqdm\n",
    "\n",
    "import networkx as nx\n",
    "import os\n",
    "import matplotlib.pyplot as plt\n",
    "import copy\n",
    "from sklearn.metrics import roc_curve\n",
    "from sklearn.metrics import roc_auc_score"
   ]
  },
  {
   "cell_type": "markdown",
   "id": "f9f629ab",
   "metadata": {},
   "source": [
    "The main problem with Quantum GNNs is implementing message passing architecture. For the purposes of this task we use parameterized quantum circuits to learn node embeddings and PyTorch's classical Message passing interface to perform aggregation and complete the graph convolution step."
   ]
  },
  {
   "cell_type": "markdown",
   "id": "2eea8a47",
   "metadata": {},
   "source": [
    "#### Parameterized quantum circuit to learn node embeddings"
   ]
  },
  {
   "cell_type": "code",
   "execution_count": 4,
   "id": "9bd58ebc",
   "metadata": {},
   "outputs": [],
   "source": [
    "def H_layer(nqubits):\n",
    "    \"\"\"Layer of single-qubit Hadamard gates.\n",
    "    \"\"\"\n",
    "    for idx in range(nqubits):\n",
    "        qml.Hadamard(wires=idx)\n",
    "\n",
    "def encoder(w):\n",
    "    \"\"\"Layer of parametrized qubit rotations around the x axis.\n",
    "    \"\"\"\n",
    "    for idx, element in enumerate(w):\n",
    "        qml.RX(element, wires=idx)\n",
    "\n",
    "def RY_layer(w):\n",
    "    \"\"\"Layer of parametrized qubit rotations around the y axis.\n",
    "    \"\"\"\n",
    "    for idx, element in enumerate(w):\n",
    "        qml.RY(element, wires=idx)\n",
    "\n",
    "\n",
    "def entangling_layer(nqubits):\n",
    "    \"\"\"Layers of CZ and RY gates.\n",
    "    \"\"\"\n",
    "    for i in range(0, nqubits - 1):  # Loop over even indices: i=0,2,...N-2\n",
    "        qml.CZ(wires=[i, i + 1])"
   ]
  },
  {
   "cell_type": "code",
   "execution_count": 114,
   "id": "a33bd691",
   "metadata": {},
   "outputs": [],
   "source": [
    "def quantum_net(n_qubits, q_depth):\n",
    "    \n",
    "    dev = qml.device(\"default.qubit\", wires=n_qubits)\n",
    "    \n",
    "    @qml.qnode(dev, interface='torch')\n",
    "    def quantum_circuit(inputs, q_weights_flat):\n",
    "        \"\"\"\n",
    "        The variational quantum circuit.\n",
    "        \"\"\"\n",
    "\n",
    "        # Reshape weights\n",
    "        q_weights = q_weights_flat.reshape(q_depth, n_qubits)\n",
    "\n",
    "        # Embed features in the quantum node\n",
    "        encoder(inputs)\n",
    "\n",
    "        # Sequence of trainable variational layers\n",
    "        for k in range(q_depth):\n",
    "            entangling_layer(n_qubits)\n",
    "            RY_layer(q_weights[k])\n",
    "\n",
    "        # Expectation values in the Z basis\n",
    "        exp_vals = [qml.expval(qml.PauliZ(position)) for position in range(n_qubits)]\n",
    "        return exp_vals\n",
    "    \n",
    "    return qml.qnn.TorchLayer(quantum_circuit, {\"q_weights_flat\": (q_depth*n_qubits)}), quantum_circuit"
   ]
  },
  {
   "cell_type": "markdown",
   "id": "09e78155",
   "metadata": {},
   "source": [
    "#### Visualizing the quantum layer"
   ]
  },
  {
   "cell_type": "code",
   "execution_count": 121,
   "id": "41378054",
   "metadata": {},
   "outputs": [
    {
     "data": {
      "text/plain": [
       "'0: ──RX(-1.35)─╭●──RY(-1.47)────────────╭●──────────RY(-0.16)─────────────────────────────────┤  <Z>\\n1: ──RX(0.51)──╰Z─╭●──────────RY(-0.86)─╰Z─────────╭●──────────RY(-2.19)──────────────────────┤  <Z>\\n2: ──RX(-0.36)────╰Z─────────╭●──────────RY(-1.37)─╰Z─────────╭●──────────RY(1.24)────────────┤  <Z>\\n3: ──────────────────────────╰Z─────────╭●──────────RY(2.06)──╰Z─────────╭●─────────RY(-1.20)─┤  <Z>\\n4: ─────────────────────────────────────╰Z──────────RY(-0.42)────────────╰Z─────────RY(0.34)──┤  <Z>'"
      ]
     },
     "execution_count": 121,
     "metadata": {},
     "output_type": "execute_result"
    }
   ],
   "source": [
    "_, qc = quantum_net(5,2)\n",
    "inputs = torch.randn(3)\n",
    "params = torch.randn(5*2)\n",
    "qml.draw(qc)(inputs, params)"
   ]
  },
  {
   "cell_type": "markdown",
   "id": "ada969fc",
   "metadata": {},
   "source": [
    "#### Hyperparameters"
   ]
  },
  {
   "cell_type": "code",
   "execution_count": 96,
   "id": "12b7eac8",
   "metadata": {},
   "outputs": [],
   "source": [
    "hidden_dims = 3\n",
    "input_dims = 3\n",
    "output_dims = 1\n",
    "q_depth = 2\n",
    "epochs = 20\n",
    "lr = 1e-3\n",
    "train_ratio = 0.8\n",
    "val_ratio = 0.1\n",
    "test_ratio = 0.1\n",
    "batch_size = 64"
   ]
  },
  {
   "cell_type": "markdown",
   "id": "0a8de167",
   "metadata": {},
   "source": [
    "#### Quantum-enhanced message passing neural network"
   ]
  },
  {
   "cell_type": "code",
   "execution_count": 107,
   "id": "55e94c61",
   "metadata": {},
   "outputs": [],
   "source": [
    "class QGCNConv(MessagePassing):\n",
    "    def __init__(self, in_channels, out_channels):\n",
    "        super().__init__(aggr='add')  # \"Add\" aggregation (Step 5).\n",
    "        self.bias = nn.Parameter(torch.empty(out_channels))\n",
    "        self.reset_parameters()\n",
    "        self.n_qubits = in_channels\n",
    "        \n",
    "        self.qc = quantum_net(self.n_qubits, q_depth)\n",
    "\n",
    "    def reset_parameters(self):\n",
    "        self.bias.data.zero_()\n",
    "\n",
    "    def forward(self, x, edge_index):\n",
    "        # x has shape [N, in_channels]\n",
    "        # edge_index has shape [2, E]\n",
    "\n",
    "        # Step 1: Add self-loops to the adjacency matrix.\n",
    "        edge_index, _ = add_self_loops(edge_index, num_nodes=x.size(0))\n",
    "\n",
    "        # Step 2: Linearly transform node feature matrix.\n",
    "        # Apply the quantum circuit to each element of the batch and append to q_out\n",
    "#         q_out = torch.Tensor(0, self.n_qubits)\n",
    "        \n",
    "#         for xi in x:\n",
    "#             q_out_elem = self.qc(xi).float().unsqueeze(0)\n",
    "#             q_out = torch.cat((q_out, q_out_elem))\n",
    "\n",
    "        q_out = self.qc(x).float().unsqueeze(0)\n",
    "\n",
    "        # Step 3: Compute normalization.\n",
    "        row, col = edge_index\n",
    "        deg = degree(col, q_out.size(0), dtype=q_out.dtype)\n",
    "        deg_inv_sqrt = deg.pow(-0.5)\n",
    "        deg_inv_sqrt[deg_inv_sqrt == float('inf')] = 0\n",
    "        norm = deg_inv_sqrt[row] * deg_inv_sqrt[col]\n",
    "\n",
    "        # Step 4-5: Start propagating messages.\n",
    "        out = self.propagate(edge_index, x=q_out, norm=norm)\n",
    "\n",
    "        # Step 6: Apply a final bias vector.\n",
    "        out = out + self.bias\n",
    "\n",
    "        return out\n",
    "\n",
    "    def message(self, x_j, norm):\n",
    "        # x_j has shape [E, out_channels]\n",
    "\n",
    "        # Step 4: Normalize node features.\n",
    "        return norm.view(-1, 1) * x_j"
   ]
  },
  {
   "cell_type": "code",
   "execution_count": 108,
   "id": "627e919d",
   "metadata": {},
   "outputs": [],
   "source": [
    "class QGCN(nn.Module):\n",
    "\n",
    "    def __init__(self, input_dims, hidden_dims, output_dims):\n",
    "        \n",
    "        super().__init__()\n",
    "        self.layers = [QGCNConv(input_dims, hidden_dims), QGCNConv(hidden_dims, hidden_dims)]\n",
    "        self.activ_fn = ReLU()\n",
    "        self.classifier = nn.Linear(hidden_dims, output_dims)\n",
    "\n",
    "    def forward(self, x, edge_index, batch):\n",
    "        \"\"\"\n",
    "        Defining how tensors are supposed to move through the *dressed* quantum\n",
    "        net.\n",
    "        \"\"\"\n",
    "        \n",
    "        h = x\n",
    "        for i in range(len(self.layers)):\n",
    "            h = self.layers[i](h, edge_index)\n",
    "            h = self.activ_fn(h)\n",
    "         \n",
    "        h = global_mean_pool(h, batch)   # readout layer to get the embedding for each graph in batch\n",
    "        h = self.classifier(h)\n",
    "\n",
    "        # return the two-dimensional prediction from the postprocessing layer\n",
    "        return h"
   ]
  },
  {
   "cell_type": "code",
   "execution_count": 99,
   "id": "06df2a4d",
   "metadata": {},
   "outputs": [
    {
     "data": {
      "text/plain": [
       "QGCN(\n",
       "  (activ_fn): ReLU()\n",
       "  (classifier): Linear(in_features=3, out_features=1, bias=True)\n",
       ")"
      ]
     },
     "execution_count": 99,
     "metadata": {},
     "output_type": "execute_result"
    }
   ],
   "source": [
    "model = QGCN(input_dims, hidden_dims, output_dims)\n",
    "model"
   ]
  },
  {
   "cell_type": "markdown",
   "id": "6f348780",
   "metadata": {},
   "source": [
    "#### Load the dataset"
   ]
  },
  {
   "cell_type": "code",
   "execution_count": 20,
   "id": "599e00ab",
   "metadata": {},
   "outputs": [],
   "source": [
    "path = \"C:/Users/HAEMANTH/Documents/Internships/GSoC/\""
   ]
  },
  {
   "cell_type": "code",
   "execution_count": 22,
   "id": "f7dfc06a",
   "metadata": {},
   "outputs": [],
   "source": [
    "X = np.load(path+'x10_sorted_12500.npy')\n",
    "y = np.load(path+'y10_sorted_12500.npy')"
   ]
  },
  {
   "cell_type": "code",
   "execution_count": 23,
   "id": "aaa79908",
   "metadata": {},
   "outputs": [
    {
     "data": {
      "text/plain": [
       "(12500, 10, 3)"
      ]
     },
     "execution_count": 23,
     "metadata": {},
     "output_type": "execute_result"
    }
   ],
   "source": [
    "X = X[:,:,:3]\n",
    "X.shape"
   ]
  },
  {
   "cell_type": "code",
   "execution_count": 24,
   "id": "bdae7a45",
   "metadata": {},
   "outputs": [
    {
     "data": {
      "text/plain": [
       "array([96.19041601,  1.76126124,  6.06750475])"
      ]
     },
     "execution_count": 24,
     "metadata": {},
     "output_type": "execute_result"
    }
   ],
   "source": [
    "X[0, 0]"
   ]
  },
  {
   "cell_type": "code",
   "execution_count": 25,
   "id": "047ad37c",
   "metadata": {},
   "outputs": [],
   "source": [
    "X = torch.Tensor(X)"
   ]
  },
  {
   "cell_type": "markdown",
   "id": "1847048b",
   "metadata": {},
   "source": [
    "#### Normalize the dataset"
   ]
  },
  {
   "cell_type": "code",
   "execution_count": 26,
   "id": "262eb521",
   "metadata": {},
   "outputs": [
    {
     "data": {
      "text/plain": [
       "tensor([476.2361,   1.9953,   6.6201])"
      ]
     },
     "execution_count": 26,
     "metadata": {},
     "output_type": "execute_result"
    }
   ],
   "source": [
    "torch.amax(X, dim=(0,1))"
   ]
  },
  {
   "cell_type": "code",
   "execution_count": 27,
   "id": "02fe7f75",
   "metadata": {},
   "outputs": [],
   "source": [
    "X_norm = X / torch.amax(X, dim=(0,1))   \n",
    "# fetch the maximum value for all feature (in last dimension) and normalize the dataset through max scaling."
   ]
  },
  {
   "cell_type": "code",
   "execution_count": 30,
   "id": "dfe90894",
   "metadata": {},
   "outputs": [],
   "source": [
    "def create_graph(x):\n",
    "    M = x.shape[0]  # number of nodes in graph (particles)\n",
    "    N = min(int(np.sqrt(M))+1, M)   # number of neighbors of each node to be considered for edge connections (1 extra for self loops) \n",
    "    # (√N is considered optimal number of neighbors for k-NN on N points)\n",
    "    edge_index = torch.zeros((2,M*N))   \n",
    "    edge_attr = torch.zeros((M*N, 1))\n",
    "    \n",
    "    for i,features in enumerate(x):\n",
    "        # find N nearest neighbors in (𝜙,𝑦) space\n",
    "        distances = torch.sqrt((features[2] - x[:,2])**2 + (features[1] - x[:,1])**2)\n",
    "        N_nearest = np.argsort(distances)[:N]\n",
    "        \n",
    "        edge_index[0][i*N:(i+1)*N] = torch.tensor([i for _ in range(N)])\n",
    "        edge_index[1][i*N:(i+1)*N] = N_nearest\n",
    "        edge_attr[i*N:(i+1)*N] = distances[N_nearest].reshape(N,1)\n",
    "     \n",
    "    edge_index = edge_index.to(torch.int)\n",
    "    return edge_index, edge_attr"
   ]
  },
  {
   "cell_type": "code",
   "execution_count": 31,
   "id": "08142aba",
   "metadata": {},
   "outputs": [],
   "source": [
    "def create_graph_dataset(X, y):\n",
    "    dataset = []\n",
    "        \n",
    "    for Xi, yi in zip(X,y):\n",
    "\n",
    "        edge_index, edge_attr = create_graph(Xi)            \n",
    "        data = Data(x=Xi, edge_index=edge_index, edge_attr=edge_attr,y=yi)\n",
    "        dataset.append(data)\n",
    "        \n",
    "    return dataset"
   ]
  },
  {
   "cell_type": "code",
   "execution_count": 32,
   "id": "a9fd4560",
   "metadata": {},
   "outputs": [],
   "source": [
    "dataset = create_graph_dataset(X_preprocessed,y)"
   ]
  },
  {
   "cell_type": "code",
   "execution_count": 33,
   "id": "8d219d8e",
   "metadata": {},
   "outputs": [
    {
     "data": {
      "text/plain": [
       "(12500, Data(x=[10, 3], edge_index=[2, 40], edge_attr=[40, 1], y=0.0))"
      ]
     },
     "execution_count": 33,
     "metadata": {},
     "output_type": "execute_result"
    }
   ],
   "source": [
    "len(dataset), dataset[0]"
   ]
  },
  {
   "cell_type": "code",
   "execution_count": 72,
   "id": "eee7682a",
   "metadata": {},
   "outputs": [],
   "source": [
    "data_train, data_val, data_test = torch.utils.data.random_split(dataset, [train_ratio, val_ratio, test_ratio])"
   ]
  },
  {
   "cell_type": "code",
   "execution_count": 97,
   "id": "ecf22d4b",
   "metadata": {},
   "outputs": [],
   "source": [
    "train_dataloader = DataLoader(data_train,\n",
    "                              batch_size = batch_size,\n",
    "                              shuffle=True)\n",
    "val_dataloader = DataLoader(data_val,\n",
    "                            batch_size = batch_size,\n",
    "                            shuffle=True)\n",
    "test_dataloader = DataLoader(data_test,\n",
    "                         batch_size = batch_size,\n",
    "                         shuffle=True)"
   ]
  },
  {
   "cell_type": "code",
   "execution_count": 98,
   "id": "949b0365",
   "metadata": {},
   "outputs": [
    {
     "data": {
      "text/plain": [
       "157"
      ]
     },
     "execution_count": 98,
     "metadata": {},
     "output_type": "execute_result"
    }
   ],
   "source": [
    "len(train_dataloader)"
   ]
  },
  {
   "cell_type": "code",
   "execution_count": 78,
   "id": "ed78b472",
   "metadata": {},
   "outputs": [],
   "source": [
    "def run_model(model, epoch, loader, lossFn, optimizer, train=True):\n",
    "    if train:\n",
    "        model.train()\n",
    "    else:\n",
    "        model.eval()\n",
    "        \n",
    "    loss = 0\n",
    "    net_loss = 0\n",
    "    correct = 0\n",
    "  \n",
    "    for batch_idx, data in (tqdm(enumerate(loader)) if train else enumerate(loader)):\n",
    "        \n",
    "        target = data.y\n",
    "\n",
    "        #This will zero out the gradients for this batch. \n",
    "        optimizer.zero_grad()\n",
    "\n",
    "        #Run the model on the train data\n",
    "        output = model(data.x, data.edge_index.type(torch.int64), data.batch)\n",
    "\n",
    "        target = target.unsqueeze(1).float()\n",
    "\n",
    "        # Calculate the loss\n",
    "        loss = lossFn(output, target)\n",
    "        net_loss += loss.data * batch_size\n",
    "\n",
    "        if train:\n",
    "            #dloss/dx for every Variable \n",
    "            loss.backward()\n",
    "\n",
    "            #to do a one-step update on our parameter.\n",
    "            optimizer.step()\n",
    "\n",
    "        pred = (output > 0).float()   \n",
    "        # since we are working with logits and not probabilities (sigmoid is applied while computing loss), we consider 0 as threshold\n",
    "        correct += (pred == target).sum()\n",
    "        \n",
    "        \n",
    "    acc = 100. * correct / len(loader.dataset)\n",
    "    net_loss /= len(loader.dataset)\n",
    "      \n",
    "    if train:\n",
    "        print('Train', end=\" \")\n",
    "    else:\n",
    "        print(\"Val\", end=\" \")\n",
    "        \n",
    "    # Print out the loss\n",
    "    print('Epoch: {} \\tLoss: {:.6f}, Accuracy: {}/{} ({:.0f}%)'.format(\n",
    "          epoch, net_loss, correct, len(loader.dataset),\n",
    "          acc))\n",
    "    \n",
    "    return net_loss, acc"
   ]
  },
  {
   "cell_type": "code",
   "execution_count": 79,
   "id": "536d647b",
   "metadata": {},
   "outputs": [],
   "source": [
    "def train_model(model, optimizer, lossFn, epochs, lr, train_dataloader, val_dataloader):\n",
    "    \n",
    "    history = {'train_loss': [],'val_loss':[],'train_acc': [],'val_acc': [] }\n",
    "\n",
    "    for epoch in range(epochs):\n",
    "        train_loss, train_acc = run_model(model, epoch, train_dataloader, lossFn, optimizer)\n",
    "        val_loss, val_acc = run_model(model, epoch, val_dataloader, lossFn, optimizer, train=False)\n",
    "        print()\n",
    "\n",
    "        history['train_loss'].append(train_loss)\n",
    "        history['train_acc'].append(train_acc)\n",
    "        history['val_loss'].append(val_loss)\n",
    "        history['val_acc'].append(val_acc)\n",
    "        \n",
    "    return history    "
   ]
  },
  {
   "cell_type": "code",
   "execution_count": 100,
   "id": "f3a5760a",
   "metadata": {
    "scrolled": true
   },
   "outputs": [
    {
     "name": "stderr",
     "output_type": "stream",
     "text": [
      "157it [55:06, 21.06s/it]\n"
     ]
    },
    {
     "name": "stdout",
     "output_type": "stream",
     "text": [
      "Train Epoch: 0 \tLoss: 0.731651, Accuracy: 4938/10000 (49%)\n",
      "Val Epoch: 0 \tLoss: 0.722194, Accuracy: 650/1250 (52%)\n",
      "\n"
     ]
    },
    {
     "name": "stderr",
     "output_type": "stream",
     "text": [
      "157it [59:45, 22.84s/it]\n"
     ]
    },
    {
     "name": "stdout",
     "output_type": "stream",
     "text": [
      "Train Epoch: 1 \tLoss: 0.713726, Accuracy: 4938/10000 (49%)\n",
      "Val Epoch: 1 \tLoss: 0.714193, Accuracy: 650/1250 (52%)\n",
      "\n"
     ]
    },
    {
     "name": "stderr",
     "output_type": "stream",
     "text": [
      "157it [41:11, 15.75s/it]\n"
     ]
    },
    {
     "name": "stdout",
     "output_type": "stream",
     "text": [
      "Train Epoch: 2 \tLoss: 0.704268, Accuracy: 4938/10000 (49%)\n",
      "Val Epoch: 2 \tLoss: 0.710809, Accuracy: 650/1250 (52%)\n",
      "\n"
     ]
    },
    {
     "name": "stderr",
     "output_type": "stream",
     "text": [
      "157it [41:14, 15.76s/it]\n"
     ]
    },
    {
     "name": "stdout",
     "output_type": "stream",
     "text": [
      "Train Epoch: 3 \tLoss: 0.699548, Accuracy: 4938/10000 (49%)\n",
      "Val Epoch: 3 \tLoss: 0.708784, Accuracy: 650/1250 (52%)\n",
      "\n"
     ]
    },
    {
     "name": "stderr",
     "output_type": "stream",
     "text": [
      "157it [1:17:34, 29.65s/it]\n"
     ]
    },
    {
     "name": "stdout",
     "output_type": "stream",
     "text": [
      "Train Epoch: 4 \tLoss: 0.697695, Accuracy: 4938/10000 (49%)\n",
      "Val Epoch: 4 \tLoss: 0.709323, Accuracy: 650/1250 (52%)\n",
      "\n"
     ]
    },
    {
     "name": "stderr",
     "output_type": "stream",
     "text": [
      "157it [41:13, 15.76s/it]\n"
     ]
    },
    {
     "name": "stdout",
     "output_type": "stream",
     "text": [
      "Train Epoch: 5 \tLoss: 0.696933, Accuracy: 4938/10000 (49%)\n",
      "Val Epoch: 5 \tLoss: 0.709566, Accuracy: 650/1250 (52%)\n",
      "\n"
     ]
    },
    {
     "name": "stderr",
     "output_type": "stream",
     "text": [
      "157it [41:09, 15.73s/it]\n"
     ]
    },
    {
     "name": "stdout",
     "output_type": "stream",
     "text": [
      "Train Epoch: 6 \tLoss: 0.696717, Accuracy: 4627/10000 (46%)\n",
      "Val Epoch: 6 \tLoss: 0.709884, Accuracy: 583/1250 (47%)\n",
      "\n"
     ]
    },
    {
     "name": "stderr",
     "output_type": "stream",
     "text": [
      "157it [41:14, 15.76s/it]\n"
     ]
    },
    {
     "name": "stdout",
     "output_type": "stream",
     "text": [
      "Train Epoch: 7 \tLoss: 0.696630, Accuracy: 4857/10000 (49%)\n",
      "Val Epoch: 7 \tLoss: 0.710133, Accuracy: 601/1250 (48%)\n",
      "\n"
     ]
    },
    {
     "name": "stderr",
     "output_type": "stream",
     "text": [
      "157it [41:13, 15.76s/it]\n"
     ]
    },
    {
     "name": "stdout",
     "output_type": "stream",
     "text": [
      "Train Epoch: 8 \tLoss: 0.696620, Accuracy: 5048/10000 (50%)\n",
      "Val Epoch: 8 \tLoss: 0.710227, Accuracy: 600/1250 (48%)\n",
      "\n"
     ]
    },
    {
     "name": "stderr",
     "output_type": "stream",
     "text": [
      "157it [41:02, 15.69s/it]\n"
     ]
    },
    {
     "name": "stdout",
     "output_type": "stream",
     "text": [
      "Train Epoch: 9 \tLoss: 0.696573, Accuracy: 5062/10000 (51%)\n",
      "Val Epoch: 9 \tLoss: 0.710221, Accuracy: 600/1250 (48%)\n",
      "\n"
     ]
    },
    {
     "name": "stderr",
     "output_type": "stream",
     "text": [
      "157it [41:17, 15.78s/it]\n"
     ]
    },
    {
     "name": "stdout",
     "output_type": "stream",
     "text": [
      "Train Epoch: 10 \tLoss: 0.696552, Accuracy: 5062/10000 (51%)\n",
      "Val Epoch: 10 \tLoss: 0.710411, Accuracy: 600/1250 (48%)\n",
      "\n"
     ]
    },
    {
     "name": "stderr",
     "output_type": "stream",
     "text": [
      "157it [43:14, 16.52s/it]\n"
     ]
    },
    {
     "name": "stdout",
     "output_type": "stream",
     "text": [
      "Train Epoch: 11 \tLoss: 0.696572, Accuracy: 5062/10000 (51%)\n",
      "Val Epoch: 11 \tLoss: 0.710491, Accuracy: 600/1250 (48%)\n",
      "\n"
     ]
    },
    {
     "name": "stderr",
     "output_type": "stream",
     "text": [
      "157it [1:14:39, 28.53s/it]\n"
     ]
    },
    {
     "name": "stdout",
     "output_type": "stream",
     "text": [
      "Train Epoch: 12 \tLoss: 0.696568, Accuracy: 5062/10000 (51%)\n",
      "Val Epoch: 12 \tLoss: 0.710431, Accuracy: 600/1250 (48%)\n",
      "\n"
     ]
    },
    {
     "name": "stderr",
     "output_type": "stream",
     "text": [
      "157it [41:10, 15.74s/it]\n"
     ]
    },
    {
     "name": "stdout",
     "output_type": "stream",
     "text": [
      "Train Epoch: 13 \tLoss: 0.696580, Accuracy: 5062/10000 (51%)\n",
      "Val Epoch: 13 \tLoss: 0.710277, Accuracy: 600/1250 (48%)\n",
      "\n"
     ]
    },
    {
     "name": "stderr",
     "output_type": "stream",
     "text": [
      "157it [40:52, 15.62s/it]\n"
     ]
    },
    {
     "name": "stdout",
     "output_type": "stream",
     "text": [
      "Train Epoch: 14 \tLoss: 0.696561, Accuracy: 5062/10000 (51%)\n",
      "Val Epoch: 14 \tLoss: 0.710204, Accuracy: 600/1250 (48%)\n",
      "\n"
     ]
    },
    {
     "name": "stderr",
     "output_type": "stream",
     "text": [
      "157it [40:56, 15.65s/it]\n"
     ]
    },
    {
     "name": "stdout",
     "output_type": "stream",
     "text": [
      "Train Epoch: 15 \tLoss: 0.696576, Accuracy: 5062/10000 (51%)\n",
      "Val Epoch: 15 \tLoss: 0.710368, Accuracy: 600/1250 (48%)\n",
      "\n"
     ]
    },
    {
     "name": "stderr",
     "output_type": "stream",
     "text": [
      "157it [40:49, 15.60s/it]\n"
     ]
    },
    {
     "name": "stdout",
     "output_type": "stream",
     "text": [
      "Train Epoch: 16 \tLoss: 0.696562, Accuracy: 5062/10000 (51%)\n",
      "Val Epoch: 16 \tLoss: 0.710370, Accuracy: 600/1250 (48%)\n",
      "\n"
     ]
    },
    {
     "name": "stderr",
     "output_type": "stream",
     "text": [
      "157it [40:54, 15.63s/it]\n"
     ]
    },
    {
     "name": "stdout",
     "output_type": "stream",
     "text": [
      "Train Epoch: 17 \tLoss: 0.696544, Accuracy: 5062/10000 (51%)\n",
      "Val Epoch: 17 \tLoss: 0.710327, Accuracy: 600/1250 (48%)\n",
      "\n"
     ]
    },
    {
     "name": "stderr",
     "output_type": "stream",
     "text": [
      "157it [40:48, 15.59s/it]\n"
     ]
    },
    {
     "name": "stdout",
     "output_type": "stream",
     "text": [
      "Train Epoch: 18 \tLoss: 0.696543, Accuracy: 5062/10000 (51%)\n",
      "Val Epoch: 18 \tLoss: 0.710386, Accuracy: 600/1250 (48%)\n",
      "\n"
     ]
    },
    {
     "name": "stderr",
     "output_type": "stream",
     "text": [
      "157it [40:53, 15.63s/it]\n"
     ]
    },
    {
     "name": "stdout",
     "output_type": "stream",
     "text": [
      "Train Epoch: 19 \tLoss: 0.696537, Accuracy: 5062/10000 (51%)\n",
      "Val Epoch: 19 \tLoss: 0.710393, Accuracy: 600/1250 (48%)\n",
      "\n"
     ]
    }
   ],
   "source": [
    "optimizer = Adam(model.parameters(), 1e-3)\n",
    "lossFn = BCEWithLogitsLoss()\n",
    "history = train_model(model, optimizer, lossFn, epochs, lr, train_dataloader, val_dataloader)"
   ]
  },
  {
   "cell_type": "code",
   "execution_count": 111,
   "id": "a4fe6e08",
   "metadata": {},
   "outputs": [
    {
     "data": {
      "image/png": "[encoded data removed]",
      "text/plain": [
       "<Figure size 640x480 with 1 Axes>"
      ]
     },
     "metadata": {},
     "output_type": "display_data"
    }
   ],
   "source": [
    "x = range(epochs)\n",
    "plt.plot(x, history['train_loss'], label='Train loss')\n",
    "plt.plot(x, history['val_loss'], label='Val loss')\n",
    "\n",
    "plt.legend()\n",
    "plt.show()"
   ]
  },
  {
   "cell_type": "markdown",
   "id": "29c91408",
   "metadata": {},
   "source": [
    "We have worked with a small subset of the Pythia8 dataset and trained a simple quantum ansatz for just 20 epochs. It can be infered from the graph that the loss follows a decreasing trend suggesting model learning. Further learning and employing better ansatz can produce much better results, which shall be explored as part of the project."
   ]
  },
  {
   "cell_type": "code",
   "execution_count": null,
   "id": "dcaead51",
   "metadata": {},
   "outputs": [],
   "source": []
  }
 ],
 "metadata": {
  "kernelspec": {
   "display_name": "Python 3 (ipykernel)",
   "language": "python",
   "name": "python3"
  },
  "language_info": {
   "codemirror_mode": {
    "name": "ipython",
    "version": 3
   },
   "file_extension": ".py",
   "mimetype": "text/x-python",
   "name": "python",
   "nbconvert_exporter": "python",
   "pygments_lexer": "ipython3",
   "version": "3.11.5"
  }
 },
 "nbformat": 4,
 "nbformat_minor": 5
}
