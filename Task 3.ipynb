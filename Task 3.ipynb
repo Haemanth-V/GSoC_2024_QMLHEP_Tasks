{
 "cells": [
  {
   "cell_type": "markdown",
   "id": "7b35fb93",
   "metadata": {},
   "source": [
    "# GSoC 2024 ML4SCI QMLHEP Task Submission"
   ]
  },
  {
   "cell_type": "markdown",
   "id": "5bccf4f2",
   "metadata": {},
   "source": [
    "**Name:** Haemanth Velmurugan <br>\n",
    "**Email:** haemanth10@gmail.com"
   ]
  },
  {
   "cell_type": "markdown",
   "id": "e00ad31f",
   "metadata": {},
   "source": [
    "### Task 3"
   ]
  },
  {
   "cell_type": "markdown",
   "id": "7d45cec3",
   "metadata": {},
   "source": [
    "Please comment on quantum computing or quantum machine learning. You can also comment on one quantum algorithm or one quantum software you are familiar with. You can also suggest methods you think are good and you would like to work on. Please use your own understanding. Comments copied from the internet will not be considered."
   ]
  },
  {
   "cell_type": "markdown",
   "id": "9ff8dafa",
   "metadata": {},
   "source": [
    "### Quantum Computing"
   ]
  },
  {
   "cell_type": "markdown",
   "id": "57c84f9e",
   "metadata": {},
   "source": [
    "Quantum computing is a fundamentally different approach to computing that utilizes quantum mechanics and its intrinsic properties such as superposition, entanglement and inteference to perform computation. While a classical bit can store only a 0 or a 1, a qubit can store a combination (or a superposition) of both 0 and 1 simultaneously. This enables qubits to store exponentially more information than classical bits. Moreover, multiple qubit states can also intefere with each other resulting in the elimination of useless information thereby amplifying the probability of observing the useful information from the superposition, which can be used to obtain upto quadratic speed-ups for unordered search using the Grover's algorithm as opposed to the linear time Linear search algorithm. Quantum computations also exhibit an inherent parallelism enabling much faster computation. One breakthrough that grabbed people's attention towards quantum computing is the discovery of Shor's algorithm that can solve the factorization problem in just polynomial time as opposed to the sub-exponential time taken by the bet-known classical algorithm. While it is not yet practical to execute Shor's algorithm (due to the limited noisy quantum hardware available at the moment), it has still managed to break the seurity, in theory, of the widely used RSA cryptosystem, revealing the potential for quantum computing."
   ]
  },
  {
   "cell_type": "markdown",
   "id": "88c285fe",
   "metadata": {},
   "source": [
    "### Quantum Machine Learning"
   ]
  },
  {
   "cell_type": "markdown",
   "id": "9b8ffcd7",
   "metadata": {},
   "source": [
    "Quantum Machine Learning is another exciting and emerging area that tries to utilize quantum computing to perform machine learning. Famous models include Variational Quantum Eigensolver (VQE) and Quantum Approximate Optimization Algorithms (QAOA) which utilize quantum circuits to perform computation and a classical computer to perform the parameter optimization. VQEs have already shown significant promise in evaluating (approximately) the ground state energy of molecules, which is of great importance in chemistry to predict the properties of a molecule.\n",
    "\n",
    "Several other approches focus on creating quantum versions of existing classical algorithms such as SVMs, Neural Networks, etc. Others focus on creating a hybrid architecture, which uses a variational quantum circuit wrapped with classical neural network layers. This approach is used widely due to the inability to run quantum circuits with many qubits whereas machine learning often involves huge datasets with lots of features.\n",
    "\n",
    "While there has not been any great promise from the field itself, it is important to develop models native to quantum computing rather than producing quantum analog of existing classical models. While this task is difficult, we expect to see great results and the true potential of QML revealed through such research. "
   ]
  },
  {
   "cell_type": "code",
   "execution_count": null,
   "id": "717b7bb7",
   "metadata": {},
   "outputs": [],
   "source": []
  }
 ],
 "metadata": {
  "kernelspec": {
   "display_name": "Python 3 (ipykernel)",
   "language": "python",
   "name": "python3"
  },
  "language_info": {
   "codemirror_mode": {
    "name": "ipython",
    "version": 3
   },
   "file_extension": ".py",
   "mimetype": "text/x-python",
   "name": "python",
   "nbconvert_exporter": "python",
   "pygments_lexer": "ipython3",
   "version": "3.11.5"
  }
 },
 "nbformat": 4,
 "nbformat_minor": 5
}
