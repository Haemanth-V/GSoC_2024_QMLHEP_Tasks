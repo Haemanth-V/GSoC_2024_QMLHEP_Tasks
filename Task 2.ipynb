{
 "cells": [
  {
   "cell_type": "markdown",
   "id": "7b35fb93",
   "metadata": {},
   "source": [
    "# GSoC 2024 ML4SCI QMLHEP Task Submission"
   ]
  },
  {
   "cell_type": "markdown",
   "id": "5bccf4f2",
   "metadata": {},
   "source": [
    "**Name:** Haemanth Velmurugan <br>\n",
    "**Email:** haemanth10@gmail.com"
   ]
  },
  {
   "cell_type": "markdown",
   "id": "e00ad31f",
   "metadata": {},
   "source": [
    "### Task 2"
   ]
  },
  {
   "cell_type": "markdown",
   "id": "9ff8bd9c",
   "metadata": {},
   "source": [
    "### Classical Graph Neural Network (GNN) \n",
    "For Task II, you will use ParticleNet’s data for Quark/Gluon jet classification available [here](https://zenodo.org/record/3164691#.YigdGt9MHrB) with its corresponding description. \n",
    "* Choose 2 Graph-based architectures of your choice to classify jets as being quarks or gluons. Provide a description on what considerations you have taken to project this point-cloud dataset to a set of interconnected nodes and edges. \n",
    "* Discuss the resulting performance of the 2 chosen architectures. \n"
   ]
  },
  {
   "cell_type": "markdown",
   "id": "df65f331",
   "metadata": {},
   "source": [
    "#### Creating the graph dataset\n",
    "\n",
    "An elementary step towards employing GNNs is to tranform the given point-cloud data to a graph. The dataset contains samples of the form $(M, 4)$ where $M$ is the multiplicity (number of particles) in the jet $\\alpha$ and $4$ denotes the number of features of each particle $i$, namely transverse momentum $p_{T,\\alpha}^{(i)}$, rapidity $y_{\\alpha}^{(i)}$, azimuthal angle $\\phi^{(i)}$ and PDG id $I_{\\alpha}^{(i)}$. \n",
    "\n",
    "Since each datapoint is a collection of particles, a better representation of the dataset would be to embed each datapoint in a graph. The nodes represent each particle and the edges would have to represent some meaningful relationship, such as similarity in features, between the particles. Each graph will then have a corresponding label as $0$ for gluons and $1$ for quarks.\n",
    "\n",
    "As explained in [[1]](https://arxiv.org/pdf/2311.18672.pdf), the PDG id $I_{\\alpha}^{(i)}$ can be used to extract more useful features about the particles, namely transverse mass $m^{(i)}_{T,\\alpha}$, the energy $E^{(i)}_{\\alpha}$, and the Cartesian momentum components, $p^{(i)}_{x,\\alpha}$, $p^{(i)}_{y,\\alpha}$, and $p^{(i)}_{z,\\alpha}$. The feature-engineered datapoints would then have the shape $(M,8)$. \n",
    "\n",
    "The properties of the graph data for each jet can then be described as follows:\n",
    "* **Nodes**: Particle in the jet\n",
    "* **Edges**: Connects each particle to its nearest neighbour in $(\\phi,y)$ space\n",
    "* **Edge weight**: Euclidean distance between particles in the $(\\phi,y)$ space\n",
    "* **Node features**: $8$-tuple consisting of $(p_{T}, y, \\phi, m_{T}, E, p_{x}, p_{y}, p_{z})$\n",
    "* **Graph label**: $0$ for gluon and $1$ for quark\n",
    "\n",
    "We connect every node to $\\sqrt N$ of the nearest neighbours in a graph with $N$ nodes, to ensure a connected graph."
   ]
  },
  {
   "cell_type": "markdown",
   "id": "918ee8b7",
   "metadata": {},
   "source": [
    "For this task, we will be using the pytorch-geometric framework. "
   ]
  },
  {
   "cell_type": "code",
   "execution_count": null,
   "id": "d48a6735",
   "metadata": {},
   "outputs": [],
   "source": [
    "!pip install energyflow\n",
    "!pip install particle\n",
    "!pip install torch_geometric"
   ]
  },
  {
   "cell_type": "code",
   "execution_count": 1,
   "id": "4733426f",
   "metadata": {},
   "outputs": [],
   "source": [
    "import numpy as np\n",
    "import energyflow\n",
    "from particle import Particle\n",
    "\n",
    "import torch\n",
    "from torch_geometric.data import Data\n",
    "from torch_geometric.utils import to_networkx\n",
    "from torch.nn import Sequential, Linear, ReLU, Sigmoid, Tanh, BCEWithLogitsLoss, Dropout, ModuleList\n",
    "from torch_geometric.nn import GCNConv, SAGEConv, global_mean_pool\n",
    "from torch.optim import Adam\n",
    "from torch_geometric.loader import DataLoader\n",
    "from tqdm import tqdm\n",
    "\n",
    "import networkx as nx\n",
    "import os\n",
    "import matplotlib.pyplot as plt\n",
    "import copy\n",
    "from sklearn.metrics import roc_curve\n",
    "from sklearn.metrics import roc_auc_score"
   ]
  },
  {
   "cell_type": "markdown",
   "id": "6f348780",
   "metadata": {},
   "source": [
    "#### Load the dataset"
   ]
  },
  {
   "cell_type": "code",
   "execution_count": null,
   "id": "498c4d56",
   "metadata": {},
   "outputs": [],
   "source": [
    "energyflow.qg_jets.load(num_data=100000, pad=True, ncol=4, generator='pythia', with_bc=False, cache_dir='~/data')"
   ]
  },
  {
   "cell_type": "code",
   "execution_count": 2,
   "id": "f7dfc06a",
   "metadata": {},
   "outputs": [],
   "source": [
    "dataset = np.load(os.path.expanduser('~/data/datasets/QG_jets.npz'))"
   ]
  },
  {
   "cell_type": "code",
   "execution_count": 3,
   "id": "017f7bf7",
   "metadata": {},
   "outputs": [
    {
     "data": {
      "text/plain": [
       "['X', 'y']"
      ]
     },
     "execution_count": 3,
     "metadata": {},
     "output_type": "execute_result"
    }
   ],
   "source": [
    "dataset.files"
   ]
  },
  {
   "cell_type": "code",
   "execution_count": 4,
   "id": "f0b48b3f",
   "metadata": {},
   "outputs": [
    {
     "data": {
      "text/plain": [
       "((100000, 139, 4), (100000,))"
      ]
     },
     "execution_count": 4,
     "metadata": {},
     "output_type": "execute_result"
    }
   ],
   "source": [
    "X = dataset['X']\n",
    "y = dataset['y']\n",
    "X.shape, y.shape"
   ]
  },
  {
   "cell_type": "markdown",
   "id": "0bdafdce",
   "metadata": {},
   "source": [
    "#### Compute the new feature values"
   ]
  },
  {
   "cell_type": "code",
   "execution_count": 5,
   "id": "28e62ebe",
   "metadata": {},
   "outputs": [],
   "source": [
    "def feature_engineer_dataset(X):\n",
    "    \n",
    "    # unpack all features\n",
    "    pt = X[:,:,0]\n",
    "    rapidity = X[:,:,1]\n",
    "    phi = X[:,:,2]\n",
    "    pdgids = X[:,:,3]\n",
    "\n",
    "    # Calculate new feature values\n",
    "    nonzero_pdgids = np.where(pdgids > 0) \n",
    "    mass = np.zeros(pdgids.shape)\n",
    "    mass_nonzeros = np.vectorize(Particle.from_pdgid)(pdgids[nonzero_pdgids])\n",
    "    mass[nonzero_pdgids] = np.fromiter((i.mass for i in mass_nonzeros), float)\n",
    "\n",
    "    mt = np.sqrt(np.square(mass) + np.square(pt))\n",
    "    energy = mass*np.cosh(rapidity) \n",
    "    px = pt*np.cos(phi)\n",
    "    py = pt*np.sin(phi)\n",
    "    pz = mt*np.sinh(rapidity)\n",
    "    \n",
    "    return torch.tensor(np.stack((pt, rapidity, phi, mt, energy, px, py, pz), axis=2), dtype=torch.float)"
   ]
  },
  {
   "cell_type": "code",
   "execution_count": 6,
   "id": "1bf047e0",
   "metadata": {},
   "outputs": [],
   "source": [
    "X_new = feature_engineer_dataset(X)"
   ]
  },
  {
   "cell_type": "code",
   "execution_count": 7,
   "id": "01ac7c22",
   "metadata": {},
   "outputs": [
    {
     "data": {
      "text/plain": [
       "(torch.Size([100000, 139, 8]), 'torch.FloatTensor')"
      ]
     },
     "execution_count": 7,
     "metadata": {},
     "output_type": "execute_result"
    }
   ],
   "source": [
    "X_new.shape, X_new.type()"
   ]
  },
  {
   "cell_type": "markdown",
   "id": "1847048b",
   "metadata": {},
   "source": [
    "#### Normalize the dataset"
   ]
  },
  {
   "cell_type": "code",
   "execution_count": 8,
   "id": "262eb521",
   "metadata": {},
   "outputs": [
    {
     "data": {
      "text/plain": [
       "tensor([5.4849e+02, 2.2004e+00, 6.7172e+00, 1.0556e+03, 3.7837e+03, 5.0324e+02,\n",
       "        5.2501e+02, 3.6537e+03])"
      ]
     },
     "execution_count": 8,
     "metadata": {},
     "output_type": "execute_result"
    }
   ],
   "source": [
    "torch.amax(X_new, dim=(0,1))"
   ]
  },
  {
   "cell_type": "code",
   "execution_count": 9,
   "id": "02fe7f75",
   "metadata": {},
   "outputs": [],
   "source": [
    "X_norm = X_new / torch.amax(X_new, dim=(0,1))   \n",
    "# fetch the maximum value for all feature (in last dimension) and normalize the dataset through max scaling."
   ]
  },
  {
   "cell_type": "markdown",
   "id": "5b23261c",
   "metadata": {},
   "source": [
    "#### Visualize 1 data point"
   ]
  },
  {
   "cell_type": "code",
   "execution_count": 10,
   "id": "719e3fc7",
   "metadata": {},
   "outputs": [
    {
     "data": {
      "text/plain": [
       "(tensor([4.9001e-04, 2.9185e-04, 2.0943e-03, 7.5326e-03, 3.0921e-03, 3.9995e-03,\n",
       "         2.9519e-03, 1.2019e-02, 6.8751e-03, 2.4579e-02, 7.4895e-03, 3.9464e-02,\n",
       "         1.2353e-02, 2.4166e-02, 5.4395e-03, 6.8140e-02, 6.1149e-01, 8.0609e-02,\n",
       "         0.0000e+00, 0.0000e+00, 0.0000e+00, 0.0000e+00, 0.0000e+00, 0.0000e+00,\n",
       "         0.0000e+00, 0.0000e+00, 0.0000e+00, 0.0000e+00, 0.0000e+00, 0.0000e+00,\n",
       "         0.0000e+00, 0.0000e+00, 0.0000e+00, 0.0000e+00, 0.0000e+00, 0.0000e+00,\n",
       "         0.0000e+00, 0.0000e+00, 0.0000e+00, 0.0000e+00, 0.0000e+00, 0.0000e+00,\n",
       "         0.0000e+00, 0.0000e+00, 0.0000e+00, 0.0000e+00, 0.0000e+00, 0.0000e+00,\n",
       "         0.0000e+00, 0.0000e+00, 0.0000e+00, 0.0000e+00, 0.0000e+00, 0.0000e+00,\n",
       "         0.0000e+00, 0.0000e+00, 0.0000e+00, 0.0000e+00, 0.0000e+00, 0.0000e+00,\n",
       "         0.0000e+00, 0.0000e+00, 0.0000e+00, 0.0000e+00, 0.0000e+00, 0.0000e+00,\n",
       "         0.0000e+00, 0.0000e+00, 0.0000e+00, 0.0000e+00, 0.0000e+00, 0.0000e+00,\n",
       "         0.0000e+00, 0.0000e+00, 0.0000e+00, 0.0000e+00, 0.0000e+00, 0.0000e+00,\n",
       "         0.0000e+00, 0.0000e+00, 0.0000e+00, 0.0000e+00, 0.0000e+00, 0.0000e+00,\n",
       "         0.0000e+00, 0.0000e+00, 0.0000e+00, 0.0000e+00, 0.0000e+00, 0.0000e+00,\n",
       "         0.0000e+00, 0.0000e+00, 0.0000e+00, 0.0000e+00, 0.0000e+00, 0.0000e+00,\n",
       "         0.0000e+00, 0.0000e+00, 0.0000e+00, 0.0000e+00, 0.0000e+00, 0.0000e+00,\n",
       "         0.0000e+00, 0.0000e+00, 0.0000e+00, 0.0000e+00, 0.0000e+00, 0.0000e+00,\n",
       "         0.0000e+00, 0.0000e+00, 0.0000e+00, 0.0000e+00, 0.0000e+00, 0.0000e+00,\n",
       "         0.0000e+00, 0.0000e+00, 0.0000e+00, 0.0000e+00, 0.0000e+00, 0.0000e+00,\n",
       "         0.0000e+00, 0.0000e+00, 0.0000e+00, 0.0000e+00, 0.0000e+00, 0.0000e+00,\n",
       "         0.0000e+00, 0.0000e+00, 0.0000e+00, 0.0000e+00, 0.0000e+00, 0.0000e+00,\n",
       "         0.0000e+00, 0.0000e+00, 0.0000e+00, 0.0000e+00, 0.0000e+00, 0.0000e+00,\n",
       "         0.0000e+00]),\n",
       " tensor([2.6877e-01, 1.6008e-01, 1.1487e+00, 4.1316e+00, 1.6960e+00, 2.1937e+00,\n",
       "         1.6191e+00, 6.5921e+00, 3.7710e+00, 1.3482e+01, 4.1079e+00, 2.1646e+01,\n",
       "         6.7755e+00, 1.3255e+01, 2.9835e+00, 3.7374e+01, 3.3540e+02, 4.4214e+01,\n",
       "         0.0000e+00, 0.0000e+00, 0.0000e+00, 0.0000e+00, 0.0000e+00, 0.0000e+00,\n",
       "         0.0000e+00, 0.0000e+00, 0.0000e+00, 0.0000e+00, 0.0000e+00, 0.0000e+00,\n",
       "         0.0000e+00, 0.0000e+00, 0.0000e+00, 0.0000e+00, 0.0000e+00, 0.0000e+00,\n",
       "         0.0000e+00, 0.0000e+00, 0.0000e+00, 0.0000e+00, 0.0000e+00, 0.0000e+00,\n",
       "         0.0000e+00, 0.0000e+00, 0.0000e+00, 0.0000e+00, 0.0000e+00, 0.0000e+00,\n",
       "         0.0000e+00, 0.0000e+00, 0.0000e+00, 0.0000e+00, 0.0000e+00, 0.0000e+00,\n",
       "         0.0000e+00, 0.0000e+00, 0.0000e+00, 0.0000e+00, 0.0000e+00, 0.0000e+00,\n",
       "         0.0000e+00, 0.0000e+00, 0.0000e+00, 0.0000e+00, 0.0000e+00, 0.0000e+00,\n",
       "         0.0000e+00, 0.0000e+00, 0.0000e+00, 0.0000e+00, 0.0000e+00, 0.0000e+00,\n",
       "         0.0000e+00, 0.0000e+00, 0.0000e+00, 0.0000e+00, 0.0000e+00, 0.0000e+00,\n",
       "         0.0000e+00, 0.0000e+00, 0.0000e+00, 0.0000e+00, 0.0000e+00, 0.0000e+00,\n",
       "         0.0000e+00, 0.0000e+00, 0.0000e+00, 0.0000e+00, 0.0000e+00, 0.0000e+00,\n",
       "         0.0000e+00, 0.0000e+00, 0.0000e+00, 0.0000e+00, 0.0000e+00, 0.0000e+00,\n",
       "         0.0000e+00, 0.0000e+00, 0.0000e+00, 0.0000e+00, 0.0000e+00, 0.0000e+00,\n",
       "         0.0000e+00, 0.0000e+00, 0.0000e+00, 0.0000e+00, 0.0000e+00, 0.0000e+00,\n",
       "         0.0000e+00, 0.0000e+00, 0.0000e+00, 0.0000e+00, 0.0000e+00, 0.0000e+00,\n",
       "         0.0000e+00, 0.0000e+00, 0.0000e+00, 0.0000e+00, 0.0000e+00, 0.0000e+00,\n",
       "         0.0000e+00, 0.0000e+00, 0.0000e+00, 0.0000e+00, 0.0000e+00, 0.0000e+00,\n",
       "         0.0000e+00, 0.0000e+00, 0.0000e+00, 0.0000e+00, 0.0000e+00, 0.0000e+00,\n",
       "         0.0000e+00, 0.0000e+00, 0.0000e+00, 0.0000e+00, 0.0000e+00, 0.0000e+00,\n",
       "         0.0000e+00]))"
      ]
     },
     "execution_count": 10,
     "metadata": {},
     "output_type": "execute_result"
    }
   ],
   "source": [
    "np.set_printoptions(suppress=True,precision=4)\n",
    "X_norm[0,:,0], X_new[0,:,0]"
   ]
  },
  {
   "cell_type": "code",
   "execution_count": 11,
   "id": "87f643d2",
   "metadata": {},
   "outputs": [
    {
     "data": {
      "image/png": "[encoded data removed]",
      "text/plain": [
       "<Figure size 640x480 with 1 Axes>"
      ]
     },
     "metadata": {},
     "output_type": "display_data"
    }
   ],
   "source": [
    "n = X_norm[0].shape[0]\n",
    "pt = X_norm[0,:,0]\n",
    "plt.plot(range(n), pt)\n",
    "plt.xlabel('Particle')\n",
    "plt.ylabel('$P_{T,\\\\alpha}$')\n",
    "plt.title('Transverse momentum of particles in first jet')\n",
    "plt.show()"
   ]
  },
  {
   "cell_type": "markdown",
   "id": "da58bfbf",
   "metadata": {},
   "source": [
    "Since there are a lot of zeros in each jet (due to zero padding), we will remove the unnecessary particles form the dataset. Moreover, GNNs can handle graph data with different number of nodes, hence this will not cause any problems with training the GNN later"
   ]
  },
  {
   "cell_type": "code",
   "execution_count": 10,
   "id": "6b586a51",
   "metadata": {},
   "outputs": [],
   "source": [
    "def strip_zeros(X):\n",
    "    X_useful = []\n",
    "    for Xi in X:\n",
    "        inds = np.where(Xi[:,0] != 0)\n",
    "        X_useful.append(Xi[inds])\n",
    "        \n",
    "    return X_useful"
   ]
  },
  {
   "cell_type": "code",
   "execution_count": 11,
   "id": "09cbb433",
   "metadata": {},
   "outputs": [
    {
     "data": {
      "text/plain": [
       "(100000, torch.Size([18, 8]), torch.Size([17, 8]))"
      ]
     },
     "execution_count": 11,
     "metadata": {},
     "output_type": "execute_result"
    }
   ],
   "source": [
    "X_preprocessed = strip_zeros(X_norm)\n",
    "len(X_preprocessed), X_preprocessed[0].shape, X_preprocessed[1].shape"
   ]
  },
  {
   "cell_type": "code",
   "execution_count": 14,
   "id": "95546473",
   "metadata": {},
   "outputs": [
    {
     "data": {
      "image/png": "[encoded data removed]",
      "text/plain": [
       "<Figure size 640x480 with 1 Axes>"
      ]
     },
     "metadata": {},
     "output_type": "display_data"
    }
   ],
   "source": [
    "n = X_preprocessed[0].shape[0]\n",
    "pt = X_preprocessed[0][:,0]\n",
    "plt.plot(range(n), pt)\n",
    "plt.xlabel('Particle')\n",
    "plt.ylabel('$P_{T,\\\\alpha}$')\n",
    "plt.title('Transverse momentum of particles in first jet')\n",
    "plt.show()"
   ]
  },
  {
   "cell_type": "code",
   "execution_count": 15,
   "id": "ddf8d944",
   "metadata": {},
   "outputs": [
    {
     "data": {
      "text/plain": [
       "torch.float32"
      ]
     },
     "execution_count": 15,
     "metadata": {},
     "output_type": "execute_result"
    }
   ],
   "source": [
    "X_preprocessed[0].dtype"
   ]
  },
  {
   "cell_type": "code",
   "execution_count": 16,
   "id": "e1c20955",
   "metadata": {},
   "outputs": [],
   "source": [
    "np.set_printoptions(suppress=False)"
   ]
  },
  {
   "cell_type": "markdown",
   "id": "8cda447d",
   "metadata": {},
   "source": [
    "#### Create graphs from data points"
   ]
  },
  {
   "cell_type": "markdown",
   "id": "ee787aed",
   "metadata": {},
   "source": [
    "In torch geometric we define the graph dataset using the following attributes\n",
    "* **x** - Node features\n",
    "* **edge_index** - Edges (denoted by nodes forming the edges) of the graph of shape [2, num_edges] (COO format)\n",
    "* **edge_attr** - Edge features\n",
    "* **y** - Graph labels"
   ]
  },
  {
   "cell_type": "code",
   "execution_count": 12,
   "id": "4da91faf",
   "metadata": {},
   "outputs": [],
   "source": [
    "def create_graph(x):\n",
    "    M = x.shape[0]  # number of nodes in graph (particles)\n",
    "    N = min(int(np.sqrt(M))+1, M)   # number of neighbors of each node to be considered for edge connections (1 extra for self loops) \n",
    "    # (√N is considered optimal number of neighbors for k-NN on N points)\n",
    "    edge_index = torch.zeros((2,M*N))   \n",
    "    edge_attr = torch.zeros((M*N, 1))\n",
    "    \n",
    "    for i,features in enumerate(x):\n",
    "        # find N nearest neighbors in (𝜙,𝑦) space\n",
    "        distances = torch.sqrt((features[2] - x[:,2])**2 + (features[1] - x[:,1])**2)\n",
    "        N_nearest = np.argsort(distances)[:N]\n",
    "        \n",
    "        edge_index[0][i*N:(i+1)*N] = torch.tensor([i for _ in range(N)])\n",
    "        edge_index[1][i*N:(i+1)*N] = N_nearest\n",
    "        edge_attr[i*N:(i+1)*N] = distances[N_nearest].reshape(N,1)\n",
    "     \n",
    "    edge_index = edge_index.to(torch.int)\n",
    "    return edge_index, edge_attr"
   ]
  },
  {
   "cell_type": "markdown",
   "id": "d80790e1",
   "metadata": {},
   "source": [
    "Test the function"
   ]
  },
  {
   "cell_type": "code",
   "execution_count": 19,
   "id": "e3f35694",
   "metadata": {},
   "outputs": [],
   "source": [
    "x = torch.tensor([[0,1,2],[0,3,4],[0,7,8],[0,4.5,4.5]])\n",
    "edge_index, edge_attr = create_graph(x)\n",
    "data = Data(x=x, edge_index=edge_index, edge_attr=edge_attr,y=[0])"
   ]
  },
  {
   "cell_type": "code",
   "execution_count": 20,
   "id": "996d0315",
   "metadata": {},
   "outputs": [
    {
     "data": {
      "image/png": "[encoded data removed]",
      "text/plain": [
       "<Figure size 640x480 with 1 Axes>"
      ]
     },
     "metadata": {},
     "output_type": "display_data"
    }
   ],
   "source": [
    "g = to_networkx(data, to_undirected=False)\n",
    "nx.draw(g)"
   ]
  },
  {
   "cell_type": "code",
   "execution_count": 21,
   "id": "bdc31e21",
   "metadata": {},
   "outputs": [
    {
     "data": {
      "text/plain": [
       "torch.int32"
      ]
     },
     "execution_count": 21,
     "metadata": {},
     "output_type": "execute_result"
    }
   ],
   "source": [
    "edge_index.dtype"
   ]
  },
  {
   "cell_type": "code",
   "execution_count": 13,
   "id": "08142aba",
   "metadata": {},
   "outputs": [],
   "source": [
    "def create_graph_dataset(X, y):\n",
    "    dataset = []\n",
    "        \n",
    "    for Xi, yi in zip(X,y):\n",
    "\n",
    "        edge_index, edge_attr = create_graph(Xi)            \n",
    "        data = Data(x=Xi, edge_index=edge_index, edge_attr=edge_attr,y=yi)\n",
    "        dataset.append(data)\n",
    "        \n",
    "    return dataset"
   ]
  },
  {
   "cell_type": "code",
   "execution_count": 14,
   "id": "a9fd4560",
   "metadata": {},
   "outputs": [],
   "source": [
    "dataset = create_graph_dataset(X_preprocessed,y)"
   ]
  },
  {
   "cell_type": "code",
   "execution_count": 15,
   "id": "8d219d8e",
   "metadata": {},
   "outputs": [
    {
     "data": {
      "text/plain": [
       "(100000, Data(x=[18, 8], edge_index=[2, 90], edge_attr=[90, 1], y=1.0))"
      ]
     },
     "execution_count": 15,
     "metadata": {},
     "output_type": "execute_result"
    }
   ],
   "source": [
    "len(dataset), dataset[0]"
   ]
  },
  {
   "cell_type": "markdown",
   "id": "c3b0048b",
   "metadata": {},
   "source": [
    "#### Hyperparameters for GNN"
   ]
  },
  {
   "cell_type": "code",
   "execution_count": 16,
   "id": "cb8f5d3b",
   "metadata": {},
   "outputs": [],
   "source": [
    "train_ratio = 0.6\n",
    "val_ratio = 0.2\n",
    "test_ratio = 0.2\n",
    "batch_size = 256\n",
    "\n",
    "epochs = 100\n",
    "lr = 5e-4"
   ]
  },
  {
   "cell_type": "markdown",
   "id": "901bdcf5",
   "metadata": {},
   "source": [
    "#### Prepare train, validation and test data"
   ]
  },
  {
   "cell_type": "code",
   "execution_count": 17,
   "id": "ea9d3afd",
   "metadata": {},
   "outputs": [],
   "source": [
    "data_train, data_val, data_test = torch.utils.data.random_split(dataset, [train_ratio, val_ratio, test_ratio])"
   ]
  },
  {
   "cell_type": "code",
   "execution_count": 18,
   "id": "a0b41377",
   "metadata": {},
   "outputs": [
    {
     "data": {
      "text/plain": [
       "(60000, 20000, 20000)"
      ]
     },
     "execution_count": 18,
     "metadata": {},
     "output_type": "execute_result"
    }
   ],
   "source": [
    "len(data_train), len(data_val), len(data_test)"
   ]
  },
  {
   "cell_type": "code",
   "execution_count": 19,
   "id": "13c5ba37",
   "metadata": {},
   "outputs": [],
   "source": [
    "train_dataloader = DataLoader(data_train,\n",
    "                              batch_size = batch_size,\n",
    "                              shuffle=True)\n",
    "val_dataloader = DataLoader(data_val,\n",
    "                            batch_size = batch_size,\n",
    "                            shuffle=True)\n",
    "test_dataloader = DataLoader(data_test,\n",
    "                         batch_size = batch_size,\n",
    "                         shuffle=True)"
   ]
  },
  {
   "cell_type": "code",
   "execution_count": 20,
   "id": "80432688",
   "metadata": {},
   "outputs": [
    {
     "data": {
      "text/plain": [
       "(235, 79, 79)"
      ]
     },
     "execution_count": 20,
     "metadata": {},
     "output_type": "execute_result"
    }
   ],
   "source": [
    "len(train_dataloader), len(val_dataloader), len(test_dataloader)"
   ]
  },
  {
   "cell_type": "code",
   "execution_count": 21,
   "id": "85853e56",
   "metadata": {},
   "outputs": [
    {
     "data": {
      "text/plain": [
       "('torch.FloatTensor', 'torch.IntTensor')"
      ]
     },
     "execution_count": 21,
     "metadata": {},
     "output_type": "execute_result"
    }
   ],
   "source": [
    "dataset[0].x.type(), dataset[0].edge_index.type()"
   ]
  },
  {
   "cell_type": "markdown",
   "id": "c68d9035",
   "metadata": {},
   "source": [
    "#### Implementing GNNs\n",
    "\n",
    "#### 1. Simple Graph Convolution Neural Network (GCN)\n",
    "\n",
    "Consider a GCN with the following three layers namely:\n",
    "* Graph convolution layer\n",
    "* Linear layer\n",
    "* Non-linear activation"
   ]
  },
  {
   "cell_type": "code",
   "execution_count": 41,
   "id": "f3d40015",
   "metadata": {},
   "outputs": [],
   "source": [
    "class GNN(torch.nn.Module):\n",
    "    def __init__(self, input_dim, hidden_dims, output_dim, activ_fn):\n",
    "        super().__init__()\n",
    "        layers = []\n",
    "        layers.append(GCNConv(input_dim, hidden_dims[0]))\n",
    "    \n",
    "        for i in range(len(hidden_dims)-1):\n",
    "            layers.append(GCNConv(hidden_dims[i], hidden_dims[i+1]))\n",
    "            \n",
    "        self.layers = ModuleList(layers)\n",
    "        self.activ_fn = activ_fn\n",
    "        self.dropout = Dropout()\n",
    "        self.classifier = Linear(hidden_dims[-1], output_dim)\n",
    "\n",
    "    def forward(self, x, edge_index, batch):\n",
    "        h = x\n",
    "        for i in range(len(self.layers)):\n",
    "            h = self.layers[i](h, edge_index)\n",
    "            h = self.activ_fn(h)\n",
    "         \n",
    "        h = global_mean_pool(h, batch)   # readout layer to get the embedding for each graph in batch\n",
    "        h = self.dropout(h)\n",
    "        h = self.classifier(h)\n",
    "        return h"
   ]
  },
  {
   "cell_type": "code",
   "execution_count": 42,
   "id": "6a6d71d5",
   "metadata": {},
   "outputs": [
    {
     "data": {
      "text/plain": [
       "GNN(\n",
       "  (layers): ModuleList(\n",
       "    (0): GCNConv(8, 16)\n",
       "    (1): GCNConv(16, 16)\n",
       "    (2): GCNConv(16, 8)\n",
       "  )\n",
       "  (activ_fn): ReLU()\n",
       "  (dropout): Dropout(p=0.5, inplace=False)\n",
       "  (classifier): Linear(in_features=8, out_features=1, bias=True)\n",
       ")"
      ]
     },
     "execution_count": 42,
     "metadata": {},
     "output_type": "execute_result"
    }
   ],
   "source": [
    "model = GNN(input_dim = dataset[0].num_node_features, hidden_dims=[16,16,8],output_dim=1, activ_fn=ReLU())\n",
    "model"
   ]
  },
  {
   "cell_type": "markdown",
   "id": "0f8f45b9",
   "metadata": {},
   "source": [
    "Since the task at hand is binary classification, we consider only 1 output node producing the probability of the particles being gluon/quark. Hence an appropriate choice of activation function would be the sigmoid function and loss could be the Binary Cross Entropy loss. We therefore use the BCEWithLogitsLoss which handles both these operations. $\\color{red}{\\text{We also choose Adam optimizer with a default learning rate of $1e-3$}}$."
   ]
  },
  {
   "cell_type": "code",
   "execution_count": 32,
   "id": "0ab854e8",
   "metadata": {},
   "outputs": [],
   "source": [
    "def run_model(model, epoch, loader, lossFn, optimizer, train=True):\n",
    "    if train:\n",
    "        model.train()\n",
    "    else:\n",
    "        model.eval()\n",
    "        \n",
    "    loss = 0\n",
    "    net_loss = 0\n",
    "    correct = 0\n",
    "  \n",
    "    for batch_idx, data in (tqdm(enumerate(loader)) if train else enumerate(loader)):\n",
    "        \n",
    "        target = data.y\n",
    "\n",
    "        #This will zero out the gradients for this batch. \n",
    "        optimizer.zero_grad()\n",
    "\n",
    "        #Run the model on the train data\n",
    "        output = model(data.x, data.edge_index.type(torch.int64), data.batch)\n",
    "\n",
    "        target = target.unsqueeze(1).float()\n",
    "\n",
    "        # Calculate the loss\n",
    "        loss = lossFn(output, target)\n",
    "        net_loss += loss.data * batch_size\n",
    "\n",
    "        if train:\n",
    "            #dloss/dx for every Variable \n",
    "            loss.backward()\n",
    "\n",
    "            #to do a one-step update on our parameter.\n",
    "            optimizer.step()\n",
    "\n",
    "        pred = (output > 0).float()   \n",
    "        correct += (pred == target).sum()\n",
    "        \n",
    "        \n",
    "    acc = 100. * correct / len(loader.dataset)\n",
    "    net_loss /= len(loader.dataset)\n",
    "      \n",
    "    if train:\n",
    "        print('Train', end=\" \")\n",
    "    else:\n",
    "        print(\"Val\", end=\" \")\n",
    "        \n",
    "    # Print out the loss\n",
    "    print('Epoch: {} \\tLoss: {:.6f}, Accuracy: {}/{} ({:.0f}%)'.format(\n",
    "          epoch, net_loss, correct, len(loader.dataset),\n",
    "          acc))\n",
    "    \n",
    "    return net_loss, acc"
   ]
  },
  {
   "cell_type": "code",
   "execution_count": 33,
   "id": "ba4ac683",
   "metadata": {},
   "outputs": [],
   "source": [
    "def train_model(model, optimizer, lossFn, epochs, lr, train_dataloader, val_dataloader):\n",
    "    \n",
    "    history = {'train_loss': [],'val_loss':[],'train_acc': [],'val_acc': [] }\n",
    "\n",
    "    for epoch in range(epochs):\n",
    "        train_loss, train_acc = run_model(model, epoch, train_dataloader, lossFn, optimizer)\n",
    "        val_loss, val_acc = run_model(model, epoch, val_dataloader, lossFn, optimizer, train=False)\n",
    "        print()\n",
    "\n",
    "        history['train_loss'].append(train_loss)\n",
    "        history['train_acc'].append(train_acc)\n",
    "        history['val_loss'].append(val_loss)\n",
    "        history['val_acc'].append(val_acc)\n",
    "        \n",
    "    return history    "
   ]
  },
  {
   "cell_type": "markdown",
   "id": "4a4080c9",
   "metadata": {},
   "source": [
    "1e-3"
   ]
  },
  {
   "cell_type": "code",
   "execution_count": 43,
   "id": "c74dfcd9",
   "metadata": {},
   "outputs": [],
   "source": [
    "model = GNN(input_dim = dataset[0].num_node_features, hidden_dims=[16,16,8],output_dim=1, activ_fn=ReLU())"
   ]
  },
  {
   "cell_type": "code",
   "execution_count": 98,
   "id": "07af9651",
   "metadata": {
    "scrolled": true
   },
   "outputs": [
    {
     "name": "stderr",
     "output_type": "stream",
     "text": [
      "274it [00:13, 20.73it/s]\n"
     ]
    },
    {
     "name": "stdout",
     "output_type": "stream",
     "text": [
      "Train Epoch: 0 \tLoss: 0.694372, Accuracy: 35570/70000 (51%)\n",
      "Val Epoch: 0 \tLoss: 0.697127, Accuracy: 7812/15000 (52%)\n",
      "\n"
     ]
    },
    {
     "name": "stderr",
     "output_type": "stream",
     "text": [
      "274it [00:15, 17.90it/s]\n"
     ]
    },
    {
     "name": "stdout",
     "output_type": "stream",
     "text": [
      "Train Epoch: 1 \tLoss: 0.692811, Accuracy: 36733/70000 (52%)\n",
      "Val Epoch: 1 \tLoss: 0.693440, Accuracy: 8363/15000 (56%)\n",
      "\n"
     ]
    },
    {
     "name": "stderr",
     "output_type": "stream",
     "text": [
      "274it [00:14, 18.49it/s]\n"
     ]
    },
    {
     "name": "stdout",
     "output_type": "stream",
     "text": [
      "Train Epoch: 2 \tLoss: 0.678052, Accuracy: 41956/70000 (60%)\n",
      "Val Epoch: 2 \tLoss: 0.656582, Accuracy: 10373/15000 (69%)\n",
      "\n"
     ]
    },
    {
     "name": "stderr",
     "output_type": "stream",
     "text": [
      "274it [00:15, 17.80it/s]\n"
     ]
    },
    {
     "name": "stdout",
     "output_type": "stream",
     "text": [
      "Train Epoch: 3 \tLoss: 0.620749, Accuracy: 48294/70000 (69%)\n",
      "Val Epoch: 3 \tLoss: 0.583248, Accuracy: 11420/15000 (76%)\n",
      "\n"
     ]
    },
    {
     "name": "stderr",
     "output_type": "stream",
     "text": [
      "274it [00:15, 17.46it/s]\n"
     ]
    },
    {
     "name": "stdout",
     "output_type": "stream",
     "text": [
      "Train Epoch: 4 \tLoss: 0.577808, Accuracy: 50840/70000 (73%)\n",
      "Val Epoch: 4 \tLoss: 0.559386, Accuracy: 11521/15000 (77%)\n",
      "\n"
     ]
    },
    {
     "name": "stderr",
     "output_type": "stream",
     "text": [
      "274it [00:14, 18.52it/s]\n"
     ]
    },
    {
     "name": "stdout",
     "output_type": "stream",
     "text": [
      "Train Epoch: 5 \tLoss: 0.565866, Accuracy: 51379/70000 (73%)\n",
      "Val Epoch: 5 \tLoss: 0.552622, Accuracy: 11547/15000 (77%)\n",
      "\n"
     ]
    },
    {
     "name": "stderr",
     "output_type": "stream",
     "text": [
      "274it [00:14, 18.42it/s]\n"
     ]
    },
    {
     "name": "stdout",
     "output_type": "stream",
     "text": [
      "Train Epoch: 6 \tLoss: 0.561182, Accuracy: 51633/70000 (74%)\n",
      "Val Epoch: 6 \tLoss: 0.550658, Accuracy: 11539/15000 (77%)\n",
      "\n"
     ]
    },
    {
     "name": "stderr",
     "output_type": "stream",
     "text": [
      "274it [00:15, 17.68it/s]\n"
     ]
    },
    {
     "name": "stdout",
     "output_type": "stream",
     "text": [
      "Train Epoch: 7 \tLoss: 0.557559, Accuracy: 51559/70000 (74%)\n",
      "Val Epoch: 7 \tLoss: 0.563281, Accuracy: 11583/15000 (77%)\n",
      "\n"
     ]
    },
    {
     "name": "stderr",
     "output_type": "stream",
     "text": [
      "274it [00:15, 18.25it/s]\n"
     ]
    },
    {
     "name": "stdout",
     "output_type": "stream",
     "text": [
      "Train Epoch: 8 \tLoss: 0.555461, Accuracy: 51647/70000 (74%)\n",
      "Val Epoch: 8 \tLoss: 0.550296, Accuracy: 11502/15000 (77%)\n",
      "\n"
     ]
    },
    {
     "name": "stderr",
     "output_type": "stream",
     "text": [
      "274it [00:14, 18.53it/s]\n"
     ]
    },
    {
     "name": "stdout",
     "output_type": "stream",
     "text": [
      "Train Epoch: 9 \tLoss: 0.551527, Accuracy: 51785/70000 (74%)\n",
      "Val Epoch: 9 \tLoss: 0.546543, Accuracy: 11566/15000 (77%)\n",
      "\n"
     ]
    },
    {
     "name": "stderr",
     "output_type": "stream",
     "text": [
      "274it [00:14, 18.82it/s]\n"
     ]
    },
    {
     "name": "stdout",
     "output_type": "stream",
     "text": [
      "Train Epoch: 10 \tLoss: 0.558525, Accuracy: 51553/70000 (74%)\n",
      "Val Epoch: 10 \tLoss: 0.543546, Accuracy: 11638/15000 (78%)\n",
      "\n"
     ]
    },
    {
     "name": "stderr",
     "output_type": "stream",
     "text": [
      "274it [00:14, 18.35it/s]\n"
     ]
    },
    {
     "name": "stdout",
     "output_type": "stream",
     "text": [
      "Train Epoch: 11 \tLoss: 0.552769, Accuracy: 51856/70000 (74%)\n",
      "Val Epoch: 11 \tLoss: 0.541875, Accuracy: 11650/15000 (78%)\n",
      "\n"
     ]
    },
    {
     "name": "stderr",
     "output_type": "stream",
     "text": [
      "274it [00:14, 18.72it/s]\n"
     ]
    },
    {
     "name": "stdout",
     "output_type": "stream",
     "text": [
      "Train Epoch: 12 \tLoss: 0.552318, Accuracy: 51847/70000 (74%)\n",
      "Val Epoch: 12 \tLoss: 0.548340, Accuracy: 11547/15000 (77%)\n",
      "\n"
     ]
    },
    {
     "name": "stderr",
     "output_type": "stream",
     "text": [
      "274it [00:14, 18.48it/s]\n"
     ]
    },
    {
     "name": "stdout",
     "output_type": "stream",
     "text": [
      "Train Epoch: 13 \tLoss: 0.547707, Accuracy: 51852/70000 (74%)\n",
      "Val Epoch: 13 \tLoss: 0.541630, Accuracy: 11644/15000 (78%)\n",
      "\n"
     ]
    },
    {
     "name": "stderr",
     "output_type": "stream",
     "text": [
      "274it [00:15, 17.84it/s]\n"
     ]
    },
    {
     "name": "stdout",
     "output_type": "stream",
     "text": [
      "Train Epoch: 14 \tLoss: 0.551673, Accuracy: 51954/70000 (74%)\n",
      "Val Epoch: 14 \tLoss: 0.543700, Accuracy: 11620/15000 (77%)\n",
      "\n"
     ]
    },
    {
     "name": "stderr",
     "output_type": "stream",
     "text": [
      "274it [00:15, 18.25it/s]\n"
     ]
    },
    {
     "name": "stdout",
     "output_type": "stream",
     "text": [
      "Train Epoch: 15 \tLoss: 0.551900, Accuracy: 51974/70000 (74%)\n",
      "Val Epoch: 15 \tLoss: 0.540566, Accuracy: 11674/15000 (78%)\n",
      "\n"
     ]
    },
    {
     "name": "stderr",
     "output_type": "stream",
     "text": [
      "274it [00:14, 18.60it/s]\n"
     ]
    },
    {
     "name": "stdout",
     "output_type": "stream",
     "text": [
      "Train Epoch: 16 \tLoss: 0.548485, Accuracy: 51931/70000 (74%)\n",
      "Val Epoch: 16 \tLoss: 0.541986, Accuracy: 11656/15000 (78%)\n",
      "\n"
     ]
    },
    {
     "name": "stderr",
     "output_type": "stream",
     "text": [
      "274it [00:14, 18.43it/s]\n"
     ]
    },
    {
     "name": "stdout",
     "output_type": "stream",
     "text": [
      "Train Epoch: 17 \tLoss: 0.550065, Accuracy: 52166/70000 (75%)\n",
      "Val Epoch: 17 \tLoss: 0.542842, Accuracy: 11627/15000 (78%)\n",
      "\n"
     ]
    },
    {
     "name": "stderr",
     "output_type": "stream",
     "text": [
      "274it [00:15, 18.03it/s]\n"
     ]
    },
    {
     "name": "stdout",
     "output_type": "stream",
     "text": [
      "Train Epoch: 18 \tLoss: 0.547240, Accuracy: 52030/70000 (74%)\n",
      "Val Epoch: 18 \tLoss: 0.543105, Accuracy: 11620/15000 (77%)\n",
      "\n"
     ]
    },
    {
     "name": "stderr",
     "output_type": "stream",
     "text": [
      "274it [00:15, 18.25it/s]\n"
     ]
    },
    {
     "name": "stdout",
     "output_type": "stream",
     "text": [
      "Train Epoch: 19 \tLoss: 0.551529, Accuracy: 51873/70000 (74%)\n",
      "Val Epoch: 19 \tLoss: 0.539542, Accuracy: 11698/15000 (78%)\n",
      "\n"
     ]
    },
    {
     "name": "stderr",
     "output_type": "stream",
     "text": [
      "274it [00:15, 18.00it/s]\n"
     ]
    },
    {
     "name": "stdout",
     "output_type": "stream",
     "text": [
      "Train Epoch: 20 \tLoss: 0.551179, Accuracy: 51966/70000 (74%)\n",
      "Val Epoch: 20 \tLoss: 0.542751, Accuracy: 11644/15000 (78%)\n",
      "\n"
     ]
    },
    {
     "name": "stderr",
     "output_type": "stream",
     "text": [
      "274it [00:14, 18.62it/s]\n"
     ]
    },
    {
     "name": "stdout",
     "output_type": "stream",
     "text": [
      "Train Epoch: 21 \tLoss: 0.548702, Accuracy: 52009/70000 (74%)\n",
      "Val Epoch: 21 \tLoss: 0.540282, Accuracy: 11704/15000 (78%)\n",
      "\n"
     ]
    },
    {
     "name": "stderr",
     "output_type": "stream",
     "text": [
      "274it [00:14, 18.38it/s]\n"
     ]
    },
    {
     "name": "stdout",
     "output_type": "stream",
     "text": [
      "Train Epoch: 22 \tLoss: 0.547371, Accuracy: 52228/70000 (75%)\n",
      "Val Epoch: 22 \tLoss: 0.540749, Accuracy: 11649/15000 (78%)\n",
      "\n"
     ]
    },
    {
     "name": "stderr",
     "output_type": "stream",
     "text": [
      "274it [00:18, 14.57it/s]\n"
     ]
    },
    {
     "name": "stdout",
     "output_type": "stream",
     "text": [
      "Train Epoch: 23 \tLoss: 0.551152, Accuracy: 52062/70000 (74%)\n",
      "Val Epoch: 23 \tLoss: 0.541910, Accuracy: 11665/15000 (78%)\n",
      "\n"
     ]
    },
    {
     "name": "stderr",
     "output_type": "stream",
     "text": [
      "274it [00:18, 15.22it/s]\n"
     ]
    },
    {
     "name": "stdout",
     "output_type": "stream",
     "text": [
      "Train Epoch: 24 \tLoss: 0.549230, Accuracy: 52101/70000 (74%)\n",
      "Val Epoch: 24 \tLoss: 0.539742, Accuracy: 11722/15000 (78%)\n",
      "\n"
     ]
    },
    {
     "name": "stderr",
     "output_type": "stream",
     "text": [
      "274it [00:16, 16.69it/s]\n"
     ]
    },
    {
     "name": "stdout",
     "output_type": "stream",
     "text": [
      "Train Epoch: 25 \tLoss: 0.548606, Accuracy: 52057/70000 (74%)\n",
      "Val Epoch: 25 \tLoss: 0.539443, Accuracy: 11706/15000 (78%)\n",
      "\n"
     ]
    },
    {
     "name": "stderr",
     "output_type": "stream",
     "text": [
      "274it [00:15, 17.83it/s]\n"
     ]
    },
    {
     "name": "stdout",
     "output_type": "stream",
     "text": [
      "Train Epoch: 26 \tLoss: 0.547427, Accuracy: 52064/70000 (74%)\n",
      "Val Epoch: 26 \tLoss: 0.540037, Accuracy: 11723/15000 (78%)\n",
      "\n"
     ]
    },
    {
     "name": "stderr",
     "output_type": "stream",
     "text": [
      "274it [00:15, 17.80it/s]\n"
     ]
    },
    {
     "name": "stdout",
     "output_type": "stream",
     "text": [
      "Train Epoch: 27 \tLoss: 0.547906, Accuracy: 52172/70000 (75%)\n",
      "Val Epoch: 27 \tLoss: 0.539353, Accuracy: 11735/15000 (78%)\n",
      "\n"
     ]
    },
    {
     "name": "stderr",
     "output_type": "stream",
     "text": [
      "274it [00:15, 17.73it/s]\n"
     ]
    },
    {
     "name": "stdout",
     "output_type": "stream",
     "text": [
      "Train Epoch: 28 \tLoss: 0.545062, Accuracy: 52156/70000 (75%)\n",
      "Val Epoch: 28 \tLoss: 0.537596, Accuracy: 11728/15000 (78%)\n",
      "\n"
     ]
    },
    {
     "name": "stderr",
     "output_type": "stream",
     "text": [
      "274it [00:14, 18.37it/s]\n"
     ]
    },
    {
     "name": "stdout",
     "output_type": "stream",
     "text": [
      "Train Epoch: 29 \tLoss: 0.546929, Accuracy: 52237/70000 (75%)\n",
      "Val Epoch: 29 \tLoss: 0.542445, Accuracy: 11645/15000 (78%)\n",
      "\n"
     ]
    },
    {
     "name": "stderr",
     "output_type": "stream",
     "text": [
      "274it [00:15, 18.07it/s]\n"
     ]
    },
    {
     "name": "stdout",
     "output_type": "stream",
     "text": [
      "Train Epoch: 30 \tLoss: 0.547378, Accuracy: 52143/70000 (74%)\n",
      "Val Epoch: 30 \tLoss: 0.538182, Accuracy: 11710/15000 (78%)\n",
      "\n"
     ]
    },
    {
     "name": "stderr",
     "output_type": "stream",
     "text": [
      "274it [00:15, 17.17it/s]\n"
     ]
    },
    {
     "name": "stdout",
     "output_type": "stream",
     "text": [
      "Train Epoch: 31 \tLoss: 0.545836, Accuracy: 52210/70000 (75%)\n",
      "Val Epoch: 31 \tLoss: 0.538064, Accuracy: 11714/15000 (78%)\n",
      "\n"
     ]
    },
    {
     "name": "stderr",
     "output_type": "stream",
     "text": [
      "274it [00:15, 17.66it/s]\n"
     ]
    },
    {
     "name": "stdout",
     "output_type": "stream",
     "text": [
      "Train Epoch: 32 \tLoss: 0.545689, Accuracy: 52256/70000 (75%)\n",
      "Val Epoch: 32 \tLoss: 0.544027, Accuracy: 11625/15000 (78%)\n",
      "\n"
     ]
    },
    {
     "name": "stderr",
     "output_type": "stream",
     "text": [
      "274it [00:15, 18.07it/s]\n"
     ]
    },
    {
     "name": "stdout",
     "output_type": "stream",
     "text": [
      "Train Epoch: 33 \tLoss: 0.547163, Accuracy: 52128/70000 (74%)\n",
      "Val Epoch: 33 \tLoss: 0.539561, Accuracy: 11711/15000 (78%)\n",
      "\n"
     ]
    },
    {
     "name": "stderr",
     "output_type": "stream",
     "text": [
      "274it [00:15, 17.46it/s]\n"
     ]
    },
    {
     "name": "stdout",
     "output_type": "stream",
     "text": [
      "Train Epoch: 34 \tLoss: 0.548014, Accuracy: 52265/70000 (75%)\n",
      "Val Epoch: 34 \tLoss: 0.545553, Accuracy: 11611/15000 (77%)\n",
      "\n"
     ]
    },
    {
     "name": "stderr",
     "output_type": "stream",
     "text": [
      "274it [00:16, 16.77it/s]\n"
     ]
    },
    {
     "name": "stdout",
     "output_type": "stream",
     "text": [
      "Train Epoch: 35 \tLoss: 0.549908, Accuracy: 52160/70000 (75%)\n",
      "Val Epoch: 35 \tLoss: 0.538556, Accuracy: 11697/15000 (78%)\n",
      "\n"
     ]
    },
    {
     "name": "stderr",
     "output_type": "stream",
     "text": [
      "274it [00:15, 17.58it/s]\n"
     ]
    },
    {
     "name": "stdout",
     "output_type": "stream",
     "text": [
      "Train Epoch: 36 \tLoss: 0.544949, Accuracy: 52353/70000 (75%)\n",
      "Val Epoch: 36 \tLoss: 0.537852, Accuracy: 11697/15000 (78%)\n",
      "\n"
     ]
    },
    {
     "name": "stderr",
     "output_type": "stream",
     "text": [
      "274it [00:14, 18.55it/s]\n"
     ]
    },
    {
     "name": "stdout",
     "output_type": "stream",
     "text": [
      "Train Epoch: 37 \tLoss: 0.546219, Accuracy: 52234/70000 (75%)\n",
      "Val Epoch: 37 \tLoss: 0.537235, Accuracy: 11754/15000 (78%)\n",
      "\n"
     ]
    },
    {
     "name": "stderr",
     "output_type": "stream",
     "text": [
      "274it [00:15, 17.42it/s]\n"
     ]
    },
    {
     "name": "stdout",
     "output_type": "stream",
     "text": [
      "Train Epoch: 38 \tLoss: 0.542593, Accuracy: 52265/70000 (75%)\n",
      "Val Epoch: 38 \tLoss: 0.544155, Accuracy: 11592/15000 (77%)\n",
      "\n"
     ]
    },
    {
     "name": "stderr",
     "output_type": "stream",
     "text": [
      "274it [00:15, 17.82it/s]\n"
     ]
    },
    {
     "name": "stdout",
     "output_type": "stream",
     "text": [
      "Train Epoch: 39 \tLoss: 0.543787, Accuracy: 52290/70000 (75%)\n",
      "Val Epoch: 39 \tLoss: 0.540126, Accuracy: 11683/15000 (78%)\n",
      "\n"
     ]
    },
    {
     "name": "stderr",
     "output_type": "stream",
     "text": [
      "274it [00:15, 17.51it/s]\n"
     ]
    },
    {
     "name": "stdout",
     "output_type": "stream",
     "text": [
      "Train Epoch: 40 \tLoss: 0.543393, Accuracy: 52293/70000 (75%)\n",
      "Val Epoch: 40 \tLoss: 0.537952, Accuracy: 11718/15000 (78%)\n",
      "\n"
     ]
    },
    {
     "name": "stderr",
     "output_type": "stream",
     "text": [
      "274it [00:16, 16.61it/s]\n"
     ]
    },
    {
     "name": "stdout",
     "output_type": "stream",
     "text": [
      "Train Epoch: 41 \tLoss: 0.546462, Accuracy: 52362/70000 (75%)\n",
      "Val Epoch: 41 \tLoss: 0.541327, Accuracy: 11619/15000 (77%)\n",
      "\n"
     ]
    },
    {
     "name": "stderr",
     "output_type": "stream",
     "text": [
      "274it [00:15, 17.64it/s]\n"
     ]
    },
    {
     "name": "stdout",
     "output_type": "stream",
     "text": [
      "Train Epoch: 42 \tLoss: 0.544084, Accuracy: 52296/70000 (75%)\n",
      "Val Epoch: 42 \tLoss: 0.538004, Accuracy: 11749/15000 (78%)\n",
      "\n"
     ]
    },
    {
     "name": "stderr",
     "output_type": "stream",
     "text": [
      "274it [00:15, 17.61it/s]\n"
     ]
    },
    {
     "name": "stdout",
     "output_type": "stream",
     "text": [
      "Train Epoch: 43 \tLoss: 0.547747, Accuracy: 52312/70000 (75%)\n",
      "Val Epoch: 43 \tLoss: 0.536607, Accuracy: 11764/15000 (78%)\n",
      "\n"
     ]
    },
    {
     "name": "stderr",
     "output_type": "stream",
     "text": [
      "274it [00:14, 18.52it/s]\n"
     ]
    },
    {
     "name": "stdout",
     "output_type": "stream",
     "text": [
      "Train Epoch: 44 \tLoss: 0.547385, Accuracy: 52240/70000 (75%)\n",
      "Val Epoch: 44 \tLoss: 0.535618, Accuracy: 11715/15000 (78%)\n",
      "\n"
     ]
    },
    {
     "name": "stderr",
     "output_type": "stream",
     "text": [
      "274it [00:15, 17.54it/s]\n"
     ]
    },
    {
     "name": "stdout",
     "output_type": "stream",
     "text": [
      "Train Epoch: 45 \tLoss: 0.544065, Accuracy: 52354/70000 (75%)\n",
      "Val Epoch: 45 \tLoss: 0.537775, Accuracy: 11755/15000 (78%)\n",
      "\n"
     ]
    },
    {
     "name": "stderr",
     "output_type": "stream",
     "text": [
      "274it [00:15, 18.11it/s]\n"
     ]
    },
    {
     "name": "stdout",
     "output_type": "stream",
     "text": [
      "Train Epoch: 46 \tLoss: 0.545466, Accuracy: 52312/70000 (75%)\n",
      "Val Epoch: 46 \tLoss: 0.536466, Accuracy: 11691/15000 (78%)\n",
      "\n"
     ]
    },
    {
     "name": "stderr",
     "output_type": "stream",
     "text": [
      "274it [00:15, 18.16it/s]\n"
     ]
    },
    {
     "name": "stdout",
     "output_type": "stream",
     "text": [
      "Train Epoch: 47 \tLoss: 0.542178, Accuracy: 52395/70000 (75%)\n",
      "Val Epoch: 47 \tLoss: 0.536725, Accuracy: 11674/15000 (78%)\n",
      "\n"
     ]
    },
    {
     "name": "stderr",
     "output_type": "stream",
     "text": [
      "274it [00:15, 17.68it/s]\n"
     ]
    },
    {
     "name": "stdout",
     "output_type": "stream",
     "text": [
      "Train Epoch: 48 \tLoss: 0.543769, Accuracy: 52265/70000 (75%)\n",
      "Val Epoch: 48 \tLoss: 0.538211, Accuracy: 11748/15000 (78%)\n",
      "\n"
     ]
    },
    {
     "name": "stderr",
     "output_type": "stream",
     "text": [
      "274it [00:15, 17.95it/s]\n"
     ]
    },
    {
     "name": "stdout",
     "output_type": "stream",
     "text": [
      "Train Epoch: 49 \tLoss: 0.543993, Accuracy: 52355/70000 (75%)\n",
      "Val Epoch: 49 \tLoss: 0.533447, Accuracy: 11725/15000 (78%)\n",
      "\n"
     ]
    },
    {
     "name": "stderr",
     "output_type": "stream",
     "text": [
      "274it [00:15, 17.93it/s]\n"
     ]
    },
    {
     "name": "stdout",
     "output_type": "stream",
     "text": [
      "Train Epoch: 50 \tLoss: 0.545690, Accuracy: 52341/70000 (75%)\n",
      "Val Epoch: 50 \tLoss: 0.536193, Accuracy: 11707/15000 (78%)\n",
      "\n"
     ]
    },
    {
     "name": "stderr",
     "output_type": "stream",
     "text": [
      "274it [00:15, 18.04it/s]\n"
     ]
    },
    {
     "name": "stdout",
     "output_type": "stream",
     "text": [
      "Train Epoch: 51 \tLoss: 0.541302, Accuracy: 52409/70000 (75%)\n",
      "Val Epoch: 51 \tLoss: 0.534949, Accuracy: 11746/15000 (78%)\n",
      "\n"
     ]
    },
    {
     "name": "stderr",
     "output_type": "stream",
     "text": [
      "274it [00:15, 17.51it/s]\n"
     ]
    },
    {
     "name": "stdout",
     "output_type": "stream",
     "text": [
      "Train Epoch: 52 \tLoss: 0.544093, Accuracy: 52389/70000 (75%)\n",
      "Val Epoch: 52 \tLoss: 0.539711, Accuracy: 11664/15000 (78%)\n",
      "\n"
     ]
    },
    {
     "name": "stderr",
     "output_type": "stream",
     "text": [
      "274it [00:15, 18.08it/s]\n"
     ]
    },
    {
     "name": "stdout",
     "output_type": "stream",
     "text": [
      "Train Epoch: 53 \tLoss: 0.542847, Accuracy: 52337/70000 (75%)\n",
      "Val Epoch: 53 \tLoss: 0.535585, Accuracy: 11734/15000 (78%)\n",
      "\n"
     ]
    },
    {
     "name": "stderr",
     "output_type": "stream",
     "text": [
      "274it [00:15, 18.04it/s]\n"
     ]
    },
    {
     "name": "stdout",
     "output_type": "stream",
     "text": [
      "Train Epoch: 54 \tLoss: 0.541360, Accuracy: 52384/70000 (75%)\n",
      "Val Epoch: 54 \tLoss: 0.535652, Accuracy: 11690/15000 (78%)\n",
      "\n"
     ]
    },
    {
     "name": "stderr",
     "output_type": "stream",
     "text": [
      "274it [00:15, 18.03it/s]\n"
     ]
    },
    {
     "name": "stdout",
     "output_type": "stream",
     "text": [
      "Train Epoch: 55 \tLoss: 0.544737, Accuracy: 52517/70000 (75%)\n",
      "Val Epoch: 55 \tLoss: 0.535826, Accuracy: 11700/15000 (78%)\n",
      "\n"
     ]
    },
    {
     "name": "stderr",
     "output_type": "stream",
     "text": [
      "274it [00:15, 18.27it/s]\n"
     ]
    },
    {
     "name": "stdout",
     "output_type": "stream",
     "text": [
      "Train Epoch: 56 \tLoss: 0.543315, Accuracy: 52402/70000 (75%)\n",
      "Val Epoch: 56 \tLoss: 0.542025, Accuracy: 11590/15000 (77%)\n",
      "\n"
     ]
    },
    {
     "name": "stderr",
     "output_type": "stream",
     "text": [
      "274it [00:15, 18.10it/s]\n"
     ]
    },
    {
     "name": "stdout",
     "output_type": "stream",
     "text": [
      "Train Epoch: 57 \tLoss: 0.545059, Accuracy: 52485/70000 (75%)\n",
      "Val Epoch: 57 \tLoss: 0.537016, Accuracy: 11676/15000 (78%)\n",
      "\n"
     ]
    },
    {
     "name": "stderr",
     "output_type": "stream",
     "text": [
      "274it [00:15, 17.38it/s]\n"
     ]
    },
    {
     "name": "stdout",
     "output_type": "stream",
     "text": [
      "Train Epoch: 58 \tLoss: 0.543081, Accuracy: 52346/70000 (75%)\n",
      "Val Epoch: 58 \tLoss: 0.533347, Accuracy: 11743/15000 (78%)\n",
      "\n"
     ]
    },
    {
     "name": "stderr",
     "output_type": "stream",
     "text": [
      "274it [00:15, 18.04it/s]\n"
     ]
    },
    {
     "name": "stdout",
     "output_type": "stream",
     "text": [
      "Train Epoch: 59 \tLoss: 0.541749, Accuracy: 52342/70000 (75%)\n",
      "Val Epoch: 59 \tLoss: 0.537009, Accuracy: 11718/15000 (78%)\n",
      "\n"
     ]
    },
    {
     "name": "stderr",
     "output_type": "stream",
     "text": [
      "274it [00:15, 17.72it/s]\n"
     ]
    },
    {
     "name": "stdout",
     "output_type": "stream",
     "text": [
      "Train Epoch: 60 \tLoss: 0.542690, Accuracy: 52564/70000 (75%)\n",
      "Val Epoch: 60 \tLoss: 0.532752, Accuracy: 11732/15000 (78%)\n",
      "\n"
     ]
    },
    {
     "name": "stderr",
     "output_type": "stream",
     "text": [
      "274it [00:15, 18.07it/s]\n"
     ]
    },
    {
     "name": "stdout",
     "output_type": "stream",
     "text": [
      "Train Epoch: 61 \tLoss: 0.541383, Accuracy: 52552/70000 (75%)\n",
      "Val Epoch: 61 \tLoss: 0.533415, Accuracy: 11739/15000 (78%)\n",
      "\n"
     ]
    },
    {
     "name": "stderr",
     "output_type": "stream",
     "text": [
      "274it [00:15, 17.36it/s]\n"
     ]
    },
    {
     "name": "stdout",
     "output_type": "stream",
     "text": [
      "Train Epoch: 62 \tLoss: 0.540732, Accuracy: 52396/70000 (75%)\n",
      "Val Epoch: 62 \tLoss: 0.538974, Accuracy: 11674/15000 (78%)\n",
      "\n"
     ]
    },
    {
     "name": "stderr",
     "output_type": "stream",
     "text": [
      "274it [00:14, 18.58it/s]\n"
     ]
    },
    {
     "name": "stdout",
     "output_type": "stream",
     "text": [
      "Train Epoch: 63 \tLoss: 0.543766, Accuracy: 52370/70000 (75%)\n",
      "Val Epoch: 63 \tLoss: 0.533520, Accuracy: 11735/15000 (78%)\n",
      "\n"
     ]
    },
    {
     "name": "stderr",
     "output_type": "stream",
     "text": [
      "274it [00:15, 17.99it/s]\n"
     ]
    },
    {
     "name": "stdout",
     "output_type": "stream",
     "text": [
      "Train Epoch: 64 \tLoss: 0.538264, Accuracy: 52470/70000 (75%)\n",
      "Val Epoch: 64 \tLoss: 0.533542, Accuracy: 11710/15000 (78%)\n",
      "\n"
     ]
    },
    {
     "name": "stderr",
     "output_type": "stream",
     "text": [
      "274it [00:16, 17.12it/s]\n"
     ]
    },
    {
     "name": "stdout",
     "output_type": "stream",
     "text": [
      "Train Epoch: 65 \tLoss: 0.543108, Accuracy: 52475/70000 (75%)\n",
      "Val Epoch: 65 \tLoss: 0.533716, Accuracy: 11742/15000 (78%)\n",
      "\n"
     ]
    },
    {
     "name": "stderr",
     "output_type": "stream",
     "text": [
      "274it [00:14, 18.34it/s]\n"
     ]
    },
    {
     "name": "stdout",
     "output_type": "stream",
     "text": [
      "Train Epoch: 66 \tLoss: 0.540964, Accuracy: 52381/70000 (75%)\n",
      "Val Epoch: 66 \tLoss: 0.534539, Accuracy: 11723/15000 (78%)\n",
      "\n"
     ]
    },
    {
     "name": "stderr",
     "output_type": "stream",
     "text": [
      "274it [00:15, 17.86it/s]\n"
     ]
    },
    {
     "name": "stdout",
     "output_type": "stream",
     "text": [
      "Train Epoch: 67 \tLoss: 0.540296, Accuracy: 52455/70000 (75%)\n",
      "Val Epoch: 67 \tLoss: 0.531278, Accuracy: 11747/15000 (78%)\n",
      "\n"
     ]
    },
    {
     "name": "stderr",
     "output_type": "stream",
     "text": [
      "274it [00:15, 17.91it/s]\n"
     ]
    },
    {
     "name": "stdout",
     "output_type": "stream",
     "text": [
      "Train Epoch: 68 \tLoss: 0.542399, Accuracy: 52322/70000 (75%)\n",
      "Val Epoch: 68 \tLoss: 0.535515, Accuracy: 11682/15000 (78%)\n",
      "\n"
     ]
    },
    {
     "name": "stderr",
     "output_type": "stream",
     "text": [
      "274it [00:15, 18.02it/s]\n"
     ]
    },
    {
     "name": "stdout",
     "output_type": "stream",
     "text": [
      "Train Epoch: 69 \tLoss: 0.541426, Accuracy: 52445/70000 (75%)\n",
      "Val Epoch: 69 \tLoss: 0.531521, Accuracy: 11728/15000 (78%)\n",
      "\n"
     ]
    },
    {
     "name": "stderr",
     "output_type": "stream",
     "text": [
      "274it [00:15, 17.79it/s]\n"
     ]
    },
    {
     "name": "stdout",
     "output_type": "stream",
     "text": [
      "Train Epoch: 70 \tLoss: 0.540755, Accuracy: 52582/70000 (75%)\n",
      "Val Epoch: 70 \tLoss: 0.532462, Accuracy: 11723/15000 (78%)\n",
      "\n"
     ]
    },
    {
     "name": "stderr",
     "output_type": "stream",
     "text": [
      "274it [00:15, 18.07it/s]\n"
     ]
    },
    {
     "name": "stdout",
     "output_type": "stream",
     "text": [
      "Train Epoch: 71 \tLoss: 0.537262, Accuracy: 52479/70000 (75%)\n",
      "Val Epoch: 71 \tLoss: 0.531339, Accuracy: 11709/15000 (78%)\n",
      "\n"
     ]
    },
    {
     "name": "stderr",
     "output_type": "stream",
     "text": [
      "274it [00:15, 17.52it/s]\n"
     ]
    },
    {
     "name": "stdout",
     "output_type": "stream",
     "text": [
      "Train Epoch: 72 \tLoss: 0.542558, Accuracy: 52499/70000 (75%)\n",
      "Val Epoch: 72 \tLoss: 0.532454, Accuracy: 11743/15000 (78%)\n",
      "\n"
     ]
    },
    {
     "name": "stderr",
     "output_type": "stream",
     "text": [
      "274it [00:15, 18.24it/s]\n"
     ]
    },
    {
     "name": "stdout",
     "output_type": "stream",
     "text": [
      "Train Epoch: 73 \tLoss: 0.538680, Accuracy: 52583/70000 (75%)\n",
      "Val Epoch: 73 \tLoss: 0.532550, Accuracy: 11733/15000 (78%)\n",
      "\n"
     ]
    },
    {
     "name": "stderr",
     "output_type": "stream",
     "text": [
      "274it [00:15, 17.67it/s]\n"
     ]
    },
    {
     "name": "stdout",
     "output_type": "stream",
     "text": [
      "Train Epoch: 74 \tLoss: 0.538613, Accuracy: 52593/70000 (75%)\n",
      "Val Epoch: 74 \tLoss: 0.532762, Accuracy: 11687/15000 (78%)\n",
      "\n"
     ]
    },
    {
     "name": "stderr",
     "output_type": "stream",
     "text": [
      "274it [00:15, 17.96it/s]\n"
     ]
    },
    {
     "name": "stdout",
     "output_type": "stream",
     "text": [
      "Train Epoch: 75 \tLoss: 0.541635, Accuracy: 52509/70000 (75%)\n",
      "Val Epoch: 75 \tLoss: 0.532063, Accuracy: 11727/15000 (78%)\n",
      "\n"
     ]
    },
    {
     "name": "stderr",
     "output_type": "stream",
     "text": [
      "274it [00:15, 18.21it/s]\n"
     ]
    },
    {
     "name": "stdout",
     "output_type": "stream",
     "text": [
      "Train Epoch: 76 \tLoss: 0.539189, Accuracy: 52592/70000 (75%)\n",
      "Val Epoch: 76 \tLoss: 0.532552, Accuracy: 11712/15000 (78%)\n",
      "\n"
     ]
    },
    {
     "name": "stderr",
     "output_type": "stream",
     "text": [
      "274it [00:15, 18.21it/s]\n"
     ]
    },
    {
     "name": "stdout",
     "output_type": "stream",
     "text": [
      "Train Epoch: 77 \tLoss: 0.540721, Accuracy: 52607/70000 (75%)\n",
      "Val Epoch: 77 \tLoss: 0.529971, Accuracy: 11740/15000 (78%)\n",
      "\n"
     ]
    },
    {
     "name": "stderr",
     "output_type": "stream",
     "text": [
      "274it [00:15, 18.04it/s]\n"
     ]
    },
    {
     "name": "stdout",
     "output_type": "stream",
     "text": [
      "Train Epoch: 78 \tLoss: 0.541095, Accuracy: 52521/70000 (75%)\n",
      "Val Epoch: 78 \tLoss: 0.528890, Accuracy: 11731/15000 (78%)\n",
      "\n"
     ]
    },
    {
     "name": "stderr",
     "output_type": "stream",
     "text": [
      "274it [00:15, 17.69it/s]\n"
     ]
    },
    {
     "name": "stdout",
     "output_type": "stream",
     "text": [
      "Train Epoch: 79 \tLoss: 0.537952, Accuracy: 52567/70000 (75%)\n",
      "Val Epoch: 79 \tLoss: 0.529755, Accuracy: 11733/15000 (78%)\n",
      "\n"
     ]
    },
    {
     "name": "stderr",
     "output_type": "stream",
     "text": [
      "274it [00:15, 18.06it/s]\n"
     ]
    },
    {
     "name": "stdout",
     "output_type": "stream",
     "text": [
      "Train Epoch: 80 \tLoss: 0.537695, Accuracy: 52598/70000 (75%)\n",
      "Val Epoch: 80 \tLoss: 0.531484, Accuracy: 11735/15000 (78%)\n",
      "\n"
     ]
    },
    {
     "name": "stderr",
     "output_type": "stream",
     "text": [
      "274it [00:14, 18.40it/s]\n"
     ]
    },
    {
     "name": "stdout",
     "output_type": "stream",
     "text": [
      "Train Epoch: 81 \tLoss: 0.538563, Accuracy: 52551/70000 (75%)\n",
      "Val Epoch: 81 \tLoss: 0.528187, Accuracy: 11721/15000 (78%)\n",
      "\n"
     ]
    },
    {
     "name": "stderr",
     "output_type": "stream",
     "text": [
      "274it [00:15, 17.84it/s]\n"
     ]
    },
    {
     "name": "stdout",
     "output_type": "stream",
     "text": [
      "Train Epoch: 82 \tLoss: 0.540809, Accuracy: 52497/70000 (75%)\n",
      "Val Epoch: 82 \tLoss: 0.533420, Accuracy: 11681/15000 (78%)\n",
      "\n"
     ]
    },
    {
     "name": "stderr",
     "output_type": "stream",
     "text": [
      "274it [00:15, 17.81it/s]\n"
     ]
    },
    {
     "name": "stdout",
     "output_type": "stream",
     "text": [
      "Train Epoch: 83 \tLoss: 0.541399, Accuracy: 52573/70000 (75%)\n",
      "Val Epoch: 83 \tLoss: 0.532898, Accuracy: 11706/15000 (78%)\n",
      "\n"
     ]
    },
    {
     "name": "stderr",
     "output_type": "stream",
     "text": [
      "274it [00:15, 18.07it/s]\n"
     ]
    },
    {
     "name": "stdout",
     "output_type": "stream",
     "text": [
      "Train Epoch: 84 \tLoss: 0.540230, Accuracy: 52504/70000 (75%)\n",
      "Val Epoch: 84 \tLoss: 0.529857, Accuracy: 11725/15000 (78%)\n",
      "\n"
     ]
    },
    {
     "name": "stderr",
     "output_type": "stream",
     "text": [
      "274it [00:15, 17.74it/s]\n"
     ]
    },
    {
     "name": "stdout",
     "output_type": "stream",
     "text": [
      "Train Epoch: 85 \tLoss: 0.542048, Accuracy: 52389/70000 (75%)\n",
      "Val Epoch: 85 \tLoss: 0.527955, Accuracy: 11733/15000 (78%)\n",
      "\n"
     ]
    },
    {
     "name": "stderr",
     "output_type": "stream",
     "text": [
      "274it [00:15, 17.55it/s]\n"
     ]
    },
    {
     "name": "stdout",
     "output_type": "stream",
     "text": [
      "Train Epoch: 86 \tLoss: 0.540346, Accuracy: 52562/70000 (75%)\n",
      "Val Epoch: 86 \tLoss: 0.530560, Accuracy: 11714/15000 (78%)\n",
      "\n"
     ]
    },
    {
     "name": "stderr",
     "output_type": "stream",
     "text": [
      "274it [00:14, 18.30it/s]\n"
     ]
    },
    {
     "name": "stdout",
     "output_type": "stream",
     "text": [
      "Train Epoch: 87 \tLoss: 0.542134, Accuracy: 52501/70000 (75%)\n",
      "Val Epoch: 87 \tLoss: 0.525608, Accuracy: 11746/15000 (78%)\n",
      "\n"
     ]
    },
    {
     "name": "stderr",
     "output_type": "stream",
     "text": [
      "274it [00:15, 18.04it/s]\n"
     ]
    },
    {
     "name": "stdout",
     "output_type": "stream",
     "text": [
      "Train Epoch: 88 \tLoss: 0.542231, Accuracy: 52467/70000 (75%)\n",
      "Val Epoch: 88 \tLoss: 0.535727, Accuracy: 11646/15000 (78%)\n",
      "\n"
     ]
    },
    {
     "name": "stderr",
     "output_type": "stream",
     "text": [
      "274it [00:15, 18.11it/s]\n"
     ]
    },
    {
     "name": "stdout",
     "output_type": "stream",
     "text": [
      "Train Epoch: 89 \tLoss: 0.538328, Accuracy: 52548/70000 (75%)\n",
      "Val Epoch: 89 \tLoss: 0.527874, Accuracy: 11744/15000 (78%)\n",
      "\n"
     ]
    },
    {
     "name": "stderr",
     "output_type": "stream",
     "text": [
      "274it [00:15, 18.19it/s]\n"
     ]
    },
    {
     "name": "stdout",
     "output_type": "stream",
     "text": [
      "Train Epoch: 90 \tLoss: 0.541454, Accuracy: 52477/70000 (75%)\n",
      "Val Epoch: 90 \tLoss: 0.532203, Accuracy: 11696/15000 (78%)\n",
      "\n"
     ]
    },
    {
     "name": "stderr",
     "output_type": "stream",
     "text": [
      "274it [00:15, 18.10it/s]\n"
     ]
    },
    {
     "name": "stdout",
     "output_type": "stream",
     "text": [
      "Train Epoch: 91 \tLoss: 0.538939, Accuracy: 52554/70000 (75%)\n",
      "Val Epoch: 91 \tLoss: 0.525379, Accuracy: 11744/15000 (78%)\n",
      "\n"
     ]
    },
    {
     "name": "stderr",
     "output_type": "stream",
     "text": [
      "274it [00:15, 17.27it/s]\n"
     ]
    },
    {
     "name": "stdout",
     "output_type": "stream",
     "text": [
      "Train Epoch: 92 \tLoss: 0.540196, Accuracy: 52577/70000 (75%)\n",
      "Val Epoch: 92 \tLoss: 0.531597, Accuracy: 11739/15000 (78%)\n",
      "\n"
     ]
    },
    {
     "name": "stderr",
     "output_type": "stream",
     "text": [
      "274it [00:15, 17.92it/s]\n"
     ]
    },
    {
     "name": "stdout",
     "output_type": "stream",
     "text": [
      "Train Epoch: 93 \tLoss: 0.538725, Accuracy: 52556/70000 (75%)\n",
      "Val Epoch: 93 \tLoss: 0.528148, Accuracy: 11703/15000 (78%)\n",
      "\n"
     ]
    },
    {
     "name": "stderr",
     "output_type": "stream",
     "text": [
      "274it [00:15, 18.10it/s]\n"
     ]
    },
    {
     "name": "stdout",
     "output_type": "stream",
     "text": [
      "Train Epoch: 94 \tLoss: 0.537050, Accuracy: 52628/70000 (75%)\n",
      "Val Epoch: 94 \tLoss: 0.527788, Accuracy: 11742/15000 (78%)\n",
      "\n"
     ]
    },
    {
     "name": "stderr",
     "output_type": "stream",
     "text": [
      "274it [00:15, 17.99it/s]\n"
     ]
    },
    {
     "name": "stdout",
     "output_type": "stream",
     "text": [
      "Train Epoch: 95 \tLoss: 0.537839, Accuracy: 52653/70000 (75%)\n",
      "Val Epoch: 95 \tLoss: 0.529816, Accuracy: 11701/15000 (78%)\n",
      "\n"
     ]
    },
    {
     "name": "stderr",
     "output_type": "stream",
     "text": [
      "274it [00:15, 17.97it/s]\n"
     ]
    },
    {
     "name": "stdout",
     "output_type": "stream",
     "text": [
      "Train Epoch: 96 \tLoss: 0.537464, Accuracy: 52597/70000 (75%)\n",
      "Val Epoch: 96 \tLoss: 0.526331, Accuracy: 11740/15000 (78%)\n",
      "\n"
     ]
    },
    {
     "name": "stderr",
     "output_type": "stream",
     "text": [
      "274it [00:15, 18.12it/s]\n"
     ]
    },
    {
     "name": "stdout",
     "output_type": "stream",
     "text": [
      "Train Epoch: 97 \tLoss: 0.540218, Accuracy: 52406/70000 (75%)\n",
      "Val Epoch: 97 \tLoss: 0.527354, Accuracy: 11741/15000 (78%)\n",
      "\n"
     ]
    },
    {
     "name": "stderr",
     "output_type": "stream",
     "text": [
      "274it [00:15, 18.16it/s]\n"
     ]
    },
    {
     "name": "stdout",
     "output_type": "stream",
     "text": [
      "Train Epoch: 98 \tLoss: 0.539460, Accuracy: 52687/70000 (75%)\n",
      "Val Epoch: 98 \tLoss: 0.528802, Accuracy: 11705/15000 (78%)\n",
      "\n"
     ]
    },
    {
     "name": "stderr",
     "output_type": "stream",
     "text": [
      "274it [00:15, 18.05it/s]\n"
     ]
    },
    {
     "name": "stdout",
     "output_type": "stream",
     "text": [
      "Train Epoch: 99 \tLoss: 0.539648, Accuracy: 52629/70000 (75%)\n",
      "Val Epoch: 99 \tLoss: 0.527005, Accuracy: 11723/15000 (78%)\n",
      "\n"
     ]
    }
   ],
   "source": [
    "optimizer = Adam(model.parameters(), 1e-3)\n",
    "lossFn = BCEWithLogitsLoss()\n",
    "history = train_model(model, optimizer, lossFn, epochs, lr, train_dataloader, val_dataloader)"
   ]
  },
  {
   "cell_type": "code",
   "execution_count": 99,
   "id": "40eec29c",
   "metadata": {},
   "outputs": [
    {
     "data": {
      "image/png": "[encoded data removed]",
      "text/plain": [
       "<Figure size 640x480 with 1 Axes>"
      ]
     },
     "metadata": {},
     "output_type": "display_data"
    }
   ],
   "source": [
    "x = range(epochs)\n",
    "plt.plot(x, history['train_loss'], label='Train loss')\n",
    "plt.plot(x, history['val_loss'], label='Val loss')\n",
    "plt.plot(x, np.array(history['train_acc'])/100, label='Train accuracy')\n",
    "plt.plot(x, np.array(history['val_acc'])/100, label='Val accuracy')\n",
    "\n",
    "plt.legend()\n",
    "plt.show()"
   ]
  },
  {
   "cell_type": "markdown",
   "id": "858ade99",
   "metadata": {},
   "source": [
    "Test accuracy"
   ]
  },
  {
   "cell_type": "code",
   "execution_count": 100,
   "id": "03db6478",
   "metadata": {
    "scrolled": true
   },
   "outputs": [
    {
     "name": "stdout",
     "output_type": "stream",
     "text": [
      "tensor(77.6667)\n"
     ]
    }
   ],
   "source": [
    "preds = []\n",
    "labels = []\n",
    "acc = 0\n",
    "for data in test_dataloader:\n",
    "        \n",
    "    target = data.y\n",
    "    labels += target\n",
    "\n",
    "    output = model(data.x, data.edge_index, data.batch)    \n",
    "    probs = Sigmoid()(output).detach()\n",
    "    preds += copy.deepcopy(probs)\n",
    "\n",
    "    target = target.unsqueeze(1).float()    \n",
    "    pred = (output > 0).float()    \n",
    "    acc += (pred == target).sum()\n",
    "\n",
    "acc = 100. * acc / len(test_dataloader.dataset)\n",
    "print(acc)"
   ]
  },
  {
   "cell_type": "code",
   "execution_count": 103,
   "id": "aab8b8a3",
   "metadata": {
    "scrolled": false
   },
   "outputs": [
    {
     "name": "stderr",
     "output_type": "stream",
     "text": [
      "C:\\Users\\HAEMANTH\\anaconda3\\envs\\py311\\Lib\\site-packages\\sklearn\\utils\\_array_api.py:380: FutureWarning: The input object of type 'Tensor' is an array-like implementing one of the corresponding protocols (`__array__`, `__array_interface__` or `__array_struct__`); but not a sequence (or 0-D). In the future, this object will be coerced as if it was first converted using `np.array(obj)`. To retain the old behaviour, you have to either modify the type 'Tensor', or assign to an empty array created with `np.empty(correct_shape, dtype=object)`.\n",
      "  array = numpy.asarray(array, order=order, dtype=dtype)\n",
      "C:\\Users\\HAEMANTH\\anaconda3\\envs\\py311\\Lib\\site-packages\\sklearn\\utils\\_array_api.py:380: VisibleDeprecationWarning: Creating an ndarray from ragged nested sequences (which is a list-or-tuple of lists-or-tuples-or ndarrays with different lengths or shapes) is deprecated. If you meant to do this, you must specify 'dtype=object' when creating the ndarray.\n",
      "  array = numpy.asarray(array, order=order, dtype=dtype)\n",
      "C:\\Users\\HAEMANTH\\anaconda3\\envs\\py311\\Lib\\site-packages\\sklearn\\utils\\_array_api.py:380: FutureWarning: The input object of type 'Tensor' is an array-like implementing one of the corresponding protocols (`__array__`, `__array_interface__` or `__array_struct__`); but not a sequence (or 0-D). In the future, this object will be coerced as if it was first converted using `np.array(obj)`. To retain the old behaviour, you have to either modify the type 'Tensor', or assign to an empty array created with `np.empty(correct_shape, dtype=object)`.\n",
      "  array = numpy.asarray(array, order=order, dtype=dtype)\n",
      "C:\\Users\\HAEMANTH\\anaconda3\\envs\\py311\\Lib\\site-packages\\sklearn\\utils\\_array_api.py:380: VisibleDeprecationWarning: Creating an ndarray from ragged nested sequences (which is a list-or-tuple of lists-or-tuples-or ndarrays with different lengths or shapes) is deprecated. If you meant to do this, you must specify 'dtype=object' when creating the ndarray.\n",
      "  array = numpy.asarray(array, order=order, dtype=dtype)\n"
     ]
    },
    {
     "data": {
      "image/png": "[encoded data removed]",
      "text/plain": [
       "<Figure size 640x480 with 1 Axes>"
      ]
     },
     "metadata": {},
     "output_type": "display_data"
    }
   ],
   "source": [
    "auc = roc_auc_score(labels, preds)\n",
    "fpr, tpr, _ = roc_curve(labels, preds)\n",
    "plt.plot(fpr, tpr, label=\"AUC = {0}\".format(auc))\n",
    "plt.xlabel('False Positive Rate')\n",
    "plt.ylabel('True Positive Rate')\n",
    "plt.legend()\n",
    "plt.show()"
   ]
  },
  {
   "cell_type": "markdown",
   "id": "50944d0f",
   "metadata": {},
   "source": [
    "#### 2. GraphSAGE Model\n",
    "\n",
    "The second model replaces the Graph Convolution layer with the generalized GraphSAGE approach proposed in [Inductive Representation Learning on Large Graphs](https://arxiv.org/abs/1706.02216)"
   ]
  },
  {
   "cell_type": "code",
   "execution_count": 54,
   "id": "1e35d5e5",
   "metadata": {},
   "outputs": [],
   "source": [
    "class GNN_Sage(torch.nn.Module):\n",
    "    def __init__(self, input_dim, hidden_dims, output_dim, activ_fn):\n",
    "        super().__init__()\n",
    "        layers = []\n",
    "        layers.append(SAGEConv(input_dim, hidden_dims[0]))\n",
    "    \n",
    "        for i in range(len(hidden_dims)-1):\n",
    "            layers.append(SAGEConv(hidden_dims[i], hidden_dims[i+1]))\n",
    "            \n",
    "        self.layers = ModuleList(layers)\n",
    "        self.activ_fn = activ_fn\n",
    "        self.dropout = Dropout()\n",
    "        self.classifier = Linear(hidden_dims[-1], output_dim)\n",
    "\n",
    "    def forward(self, x, edge_index, batch):\n",
    "        h = x\n",
    "        for i in range(len(self.layers)):\n",
    "            h = self.layers[i](h, edge_index)\n",
    "            h = self.activ_fn(h)\n",
    "         \n",
    "        h = global_mean_pool(h, batch)   # readout layer to get the embedding for each graph in batch\n",
    "        h = self.dropout(h)\n",
    "        h = self.classifier(h)\n",
    "        return h"
   ]
  },
  {
   "cell_type": "code",
   "execution_count": 76,
   "id": "4c5783f9",
   "metadata": {},
   "outputs": [
    {
     "data": {
      "text/plain": [
       "GNN_Sage(\n",
       "  (layers): ModuleList(\n",
       "    (0): SAGEConv(8, 16, aggr=mean)\n",
       "    (1): SAGEConv(16, 16, aggr=mean)\n",
       "    (2): SAGEConv(16, 8, aggr=mean)\n",
       "  )\n",
       "  (activ_fn): ReLU()\n",
       "  (dropout): Dropout(p=0.5, inplace=False)\n",
       "  (classifier): Linear(in_features=8, out_features=1, bias=True)\n",
       ")"
      ]
     },
     "execution_count": 76,
     "metadata": {},
     "output_type": "execute_result"
    }
   ],
   "source": [
    "model = GNN_Sage(input_dim = dataset[0].num_node_features, hidden_dims=[16,16,8],output_dim=1, activ_fn=ReLU())\n",
    "model"
   ]
  },
  {
   "cell_type": "code",
   "execution_count": 77,
   "id": "bd285ab4",
   "metadata": {
    "scrolled": true
   },
   "outputs": [
    {
     "name": "stderr",
     "output_type": "stream",
     "text": [
      "235it [00:19, 11.88it/s]\n"
     ]
    },
    {
     "name": "stdout",
     "output_type": "stream",
     "text": [
      "Train Epoch: 0 \tLoss: 0.695015, Accuracy: 30722/60000 (51%)\n",
      "Val Epoch: 0 \tLoss: 0.693979, Accuracy: 11753/20000 (59%)\n",
      "\n"
     ]
    },
    {
     "name": "stderr",
     "output_type": "stream",
     "text": [
      "235it [00:17, 13.76it/s]\n"
     ]
    },
    {
     "name": "stdout",
     "output_type": "stream",
     "text": [
      "Train Epoch: 1 \tLoss: 0.635914, Accuracy: 39261/60000 (65%)\n",
      "Val Epoch: 1 \tLoss: 0.549149, Accuracy: 15423/20000 (77%)\n",
      "\n"
     ]
    },
    {
     "name": "stderr",
     "output_type": "stream",
     "text": [
      "235it [00:16, 14.25it/s]\n"
     ]
    },
    {
     "name": "stdout",
     "output_type": "stream",
     "text": [
      "Train Epoch: 2 \tLoss: 0.567696, Accuracy: 43917/60000 (73%)\n",
      "Val Epoch: 2 \tLoss: 0.520235, Accuracy: 15493/20000 (77%)\n",
      "\n"
     ]
    },
    {
     "name": "stderr",
     "output_type": "stream",
     "text": [
      "235it [00:18, 12.44it/s]\n"
     ]
    },
    {
     "name": "stdout",
     "output_type": "stream",
     "text": [
      "Train Epoch: 3 \tLoss: 0.560379, Accuracy: 44085/60000 (73%)\n",
      "Val Epoch: 3 \tLoss: 0.515709, Accuracy: 15456/20000 (77%)\n",
      "\n"
     ]
    },
    {
     "name": "stderr",
     "output_type": "stream",
     "text": [
      "235it [00:14, 15.67it/s]\n"
     ]
    },
    {
     "name": "stdout",
     "output_type": "stream",
     "text": [
      "Train Epoch: 4 \tLoss: 0.557080, Accuracy: 44231/60000 (74%)\n",
      "Val Epoch: 4 \tLoss: 0.516894, Accuracy: 15366/20000 (77%)\n",
      "\n"
     ]
    },
    {
     "name": "stderr",
     "output_type": "stream",
     "text": [
      "235it [00:12, 18.22it/s]\n"
     ]
    },
    {
     "name": "stdout",
     "output_type": "stream",
     "text": [
      "Train Epoch: 5 \tLoss: 0.559092, Accuracy: 44200/60000 (74%)\n",
      "Val Epoch: 5 \tLoss: 0.508540, Accuracy: 15540/20000 (78%)\n",
      "\n"
     ]
    },
    {
     "name": "stderr",
     "output_type": "stream",
     "text": [
      "235it [00:11, 19.74it/s]\n"
     ]
    },
    {
     "name": "stdout",
     "output_type": "stream",
     "text": [
      "Train Epoch: 6 \tLoss: 0.553944, Accuracy: 44135/60000 (74%)\n",
      "Val Epoch: 6 \tLoss: 0.508025, Accuracy: 15492/20000 (77%)\n",
      "\n"
     ]
    },
    {
     "name": "stderr",
     "output_type": "stream",
     "text": [
      "235it [00:11, 19.92it/s]\n"
     ]
    },
    {
     "name": "stdout",
     "output_type": "stream",
     "text": [
      "Train Epoch: 7 \tLoss: 0.554098, Accuracy: 44418/60000 (74%)\n",
      "Val Epoch: 7 \tLoss: 0.509614, Accuracy: 15496/20000 (77%)\n",
      "\n"
     ]
    },
    {
     "name": "stderr",
     "output_type": "stream",
     "text": [
      "235it [00:11, 20.37it/s]\n"
     ]
    },
    {
     "name": "stdout",
     "output_type": "stream",
     "text": [
      "Train Epoch: 8 \tLoss: 0.554580, Accuracy: 44115/60000 (74%)\n",
      "Val Epoch: 8 \tLoss: 0.505349, Accuracy: 15534/20000 (78%)\n",
      "\n"
     ]
    },
    {
     "name": "stderr",
     "output_type": "stream",
     "text": [
      "235it [00:11, 20.56it/s]\n"
     ]
    },
    {
     "name": "stdout",
     "output_type": "stream",
     "text": [
      "Train Epoch: 9 \tLoss: 0.554308, Accuracy: 44154/60000 (74%)\n",
      "Val Epoch: 9 \tLoss: 0.506054, Accuracy: 15531/20000 (78%)\n",
      "\n"
     ]
    },
    {
     "name": "stderr",
     "output_type": "stream",
     "text": [
      "235it [00:11, 21.07it/s]\n"
     ]
    },
    {
     "name": "stdout",
     "output_type": "stream",
     "text": [
      "Train Epoch: 10 \tLoss: 0.552144, Accuracy: 44271/60000 (74%)\n",
      "Val Epoch: 10 \tLoss: 0.507513, Accuracy: 15431/20000 (77%)\n",
      "\n"
     ]
    },
    {
     "name": "stderr",
     "output_type": "stream",
     "text": [
      "235it [00:10, 23.03it/s]\n"
     ]
    },
    {
     "name": "stdout",
     "output_type": "stream",
     "text": [
      "Train Epoch: 11 \tLoss: 0.553835, Accuracy: 44267/60000 (74%)\n",
      "Val Epoch: 11 \tLoss: 0.506053, Accuracy: 15532/20000 (78%)\n",
      "\n"
     ]
    },
    {
     "name": "stderr",
     "output_type": "stream",
     "text": [
      "235it [00:10, 21.50it/s]\n"
     ]
    },
    {
     "name": "stdout",
     "output_type": "stream",
     "text": [
      "Train Epoch: 12 \tLoss: 0.555905, Accuracy: 44059/60000 (73%)\n",
      "Val Epoch: 12 \tLoss: 0.503429, Accuracy: 15512/20000 (78%)\n",
      "\n"
     ]
    },
    {
     "name": "stderr",
     "output_type": "stream",
     "text": [
      "235it [00:11, 20.80it/s]\n"
     ]
    },
    {
     "name": "stdout",
     "output_type": "stream",
     "text": [
      "Train Epoch: 13 \tLoss: 0.552152, Accuracy: 44148/60000 (74%)\n",
      "Val Epoch: 13 \tLoss: 0.503479, Accuracy: 15507/20000 (78%)\n",
      "\n"
     ]
    },
    {
     "name": "stderr",
     "output_type": "stream",
     "text": [
      "235it [00:13, 17.86it/s]\n"
     ]
    },
    {
     "name": "stdout",
     "output_type": "stream",
     "text": [
      "Train Epoch: 14 \tLoss: 0.552119, Accuracy: 44308/60000 (74%)\n",
      "Val Epoch: 14 \tLoss: 0.504632, Accuracy: 15518/20000 (78%)\n",
      "\n"
     ]
    },
    {
     "name": "stderr",
     "output_type": "stream",
     "text": [
      "235it [00:11, 20.43it/s]\n"
     ]
    },
    {
     "name": "stdout",
     "output_type": "stream",
     "text": [
      "Train Epoch: 15 \tLoss: 0.551919, Accuracy: 44399/60000 (74%)\n",
      "Val Epoch: 15 \tLoss: 0.504081, Accuracy: 15535/20000 (78%)\n",
      "\n"
     ]
    },
    {
     "name": "stderr",
     "output_type": "stream",
     "text": [
      "235it [00:11, 21.15it/s]\n"
     ]
    },
    {
     "name": "stdout",
     "output_type": "stream",
     "text": [
      "Train Epoch: 16 \tLoss: 0.551209, Accuracy: 44205/60000 (74%)\n",
      "Val Epoch: 16 \tLoss: 0.507107, Accuracy: 15375/20000 (77%)\n",
      "\n"
     ]
    },
    {
     "name": "stderr",
     "output_type": "stream",
     "text": [
      "235it [00:11, 20.82it/s]\n"
     ]
    },
    {
     "name": "stdout",
     "output_type": "stream",
     "text": [
      "Train Epoch: 17 \tLoss: 0.553838, Accuracy: 44289/60000 (74%)\n",
      "Val Epoch: 17 \tLoss: 0.509402, Accuracy: 15393/20000 (77%)\n",
      "\n"
     ]
    },
    {
     "name": "stderr",
     "output_type": "stream",
     "text": [
      "235it [00:12, 19.40it/s]\n"
     ]
    },
    {
     "name": "stdout",
     "output_type": "stream",
     "text": [
      "Train Epoch: 18 \tLoss: 0.552026, Accuracy: 44281/60000 (74%)\n",
      "Val Epoch: 18 \tLoss: 0.502280, Accuracy: 15564/20000 (78%)\n",
      "\n"
     ]
    },
    {
     "name": "stderr",
     "output_type": "stream",
     "text": [
      "235it [00:11, 21.20it/s]\n"
     ]
    },
    {
     "name": "stdout",
     "output_type": "stream",
     "text": [
      "Train Epoch: 19 \tLoss: 0.550138, Accuracy: 44263/60000 (74%)\n",
      "Val Epoch: 19 \tLoss: 0.504705, Accuracy: 15481/20000 (77%)\n",
      "\n"
     ]
    },
    {
     "name": "stderr",
     "output_type": "stream",
     "text": [
      "235it [00:10, 22.05it/s]\n"
     ]
    },
    {
     "name": "stdout",
     "output_type": "stream",
     "text": [
      "Train Epoch: 20 \tLoss: 0.552998, Accuracy: 44266/60000 (74%)\n",
      "Val Epoch: 20 \tLoss: 0.506359, Accuracy: 15407/20000 (77%)\n",
      "\n"
     ]
    },
    {
     "name": "stderr",
     "output_type": "stream",
     "text": [
      "235it [00:10, 22.12it/s]\n"
     ]
    },
    {
     "name": "stdout",
     "output_type": "stream",
     "text": [
      "Train Epoch: 21 \tLoss: 0.551017, Accuracy: 44389/60000 (74%)\n",
      "Val Epoch: 21 \tLoss: 0.502397, Accuracy: 15553/20000 (78%)\n",
      "\n"
     ]
    },
    {
     "name": "stderr",
     "output_type": "stream",
     "text": [
      "235it [00:11, 20.76it/s]\n"
     ]
    },
    {
     "name": "stdout",
     "output_type": "stream",
     "text": [
      "Train Epoch: 22 \tLoss: 0.552198, Accuracy: 44315/60000 (74%)\n",
      "Val Epoch: 22 \tLoss: 0.502407, Accuracy: 15528/20000 (78%)\n",
      "\n"
     ]
    },
    {
     "name": "stderr",
     "output_type": "stream",
     "text": [
      "235it [00:12, 18.38it/s]\n"
     ]
    },
    {
     "name": "stdout",
     "output_type": "stream",
     "text": [
      "Train Epoch: 23 \tLoss: 0.549873, Accuracy: 44316/60000 (74%)\n",
      "Val Epoch: 23 \tLoss: 0.503757, Accuracy: 15525/20000 (78%)\n",
      "\n"
     ]
    },
    {
     "name": "stderr",
     "output_type": "stream",
     "text": [
      "235it [00:11, 20.28it/s]\n"
     ]
    },
    {
     "name": "stdout",
     "output_type": "stream",
     "text": [
      "Train Epoch: 24 \tLoss: 0.548486, Accuracy: 44307/60000 (74%)\n",
      "Val Epoch: 24 \tLoss: 0.500181, Accuracy: 15555/20000 (78%)\n",
      "\n"
     ]
    },
    {
     "name": "stderr",
     "output_type": "stream",
     "text": [
      "235it [00:11, 21.20it/s]\n"
     ]
    },
    {
     "name": "stdout",
     "output_type": "stream",
     "text": [
      "Train Epoch: 25 \tLoss: 0.550209, Accuracy: 44294/60000 (74%)\n",
      "Val Epoch: 25 \tLoss: 0.502218, Accuracy: 15496/20000 (77%)\n",
      "\n"
     ]
    },
    {
     "name": "stderr",
     "output_type": "stream",
     "text": [
      "235it [00:11, 20.68it/s]\n"
     ]
    },
    {
     "name": "stdout",
     "output_type": "stream",
     "text": [
      "Train Epoch: 26 \tLoss: 0.551517, Accuracy: 44370/60000 (74%)\n",
      "Val Epoch: 26 \tLoss: 0.503600, Accuracy: 15519/20000 (78%)\n",
      "\n"
     ]
    },
    {
     "name": "stderr",
     "output_type": "stream",
     "text": [
      "235it [00:10, 22.43it/s]\n"
     ]
    },
    {
     "name": "stdout",
     "output_type": "stream",
     "text": [
      "Train Epoch: 27 \tLoss: 0.550346, Accuracy: 44331/60000 (74%)\n",
      "Val Epoch: 27 \tLoss: 0.504357, Accuracy: 15484/20000 (77%)\n",
      "\n"
     ]
    },
    {
     "name": "stderr",
     "output_type": "stream",
     "text": [
      "235it [00:10, 22.46it/s]\n"
     ]
    },
    {
     "name": "stdout",
     "output_type": "stream",
     "text": [
      "Train Epoch: 28 \tLoss: 0.549165, Accuracy: 44432/60000 (74%)\n",
      "Val Epoch: 28 \tLoss: 0.501714, Accuracy: 15518/20000 (78%)\n",
      "\n"
     ]
    },
    {
     "name": "stderr",
     "output_type": "stream",
     "text": [
      "235it [00:10, 21.61it/s]\n"
     ]
    },
    {
     "name": "stdout",
     "output_type": "stream",
     "text": [
      "Train Epoch: 29 \tLoss: 0.546613, Accuracy: 44389/60000 (74%)\n",
      "Val Epoch: 29 \tLoss: 0.504663, Accuracy: 15434/20000 (77%)\n",
      "\n"
     ]
    },
    {
     "name": "stderr",
     "output_type": "stream",
     "text": [
      "235it [00:11, 20.68it/s]\n"
     ]
    },
    {
     "name": "stdout",
     "output_type": "stream",
     "text": [
      "Train Epoch: 30 \tLoss: 0.551104, Accuracy: 44430/60000 (74%)\n",
      "Val Epoch: 30 \tLoss: 0.502087, Accuracy: 15562/20000 (78%)\n",
      "\n"
     ]
    },
    {
     "name": "stderr",
     "output_type": "stream",
     "text": [
      "235it [00:11, 20.70it/s]\n"
     ]
    },
    {
     "name": "stdout",
     "output_type": "stream",
     "text": [
      "Train Epoch: 31 \tLoss: 0.550556, Accuracy: 44311/60000 (74%)\n",
      "Val Epoch: 31 \tLoss: 0.503555, Accuracy: 15552/20000 (78%)\n",
      "\n"
     ]
    },
    {
     "name": "stderr",
     "output_type": "stream",
     "text": [
      "235it [00:11, 21.04it/s]\n"
     ]
    },
    {
     "name": "stdout",
     "output_type": "stream",
     "text": [
      "Train Epoch: 32 \tLoss: 0.548998, Accuracy: 44284/60000 (74%)\n",
      "Val Epoch: 32 \tLoss: 0.501104, Accuracy: 15526/20000 (78%)\n",
      "\n"
     ]
    },
    {
     "name": "stderr",
     "output_type": "stream",
     "text": [
      "235it [00:11, 20.90it/s]\n"
     ]
    },
    {
     "name": "stdout",
     "output_type": "stream",
     "text": [
      "Train Epoch: 33 \tLoss: 0.549363, Accuracy: 44427/60000 (74%)\n",
      "Val Epoch: 33 \tLoss: 0.505522, Accuracy: 15454/20000 (77%)\n",
      "\n"
     ]
    },
    {
     "name": "stderr",
     "output_type": "stream",
     "text": [
      "235it [00:10, 21.45it/s]\n"
     ]
    },
    {
     "name": "stdout",
     "output_type": "stream",
     "text": [
      "Train Epoch: 34 \tLoss: 0.551869, Accuracy: 44310/60000 (74%)\n",
      "Val Epoch: 34 \tLoss: 0.505850, Accuracy: 15446/20000 (77%)\n",
      "\n"
     ]
    },
    {
     "name": "stderr",
     "output_type": "stream",
     "text": [
      "235it [00:10, 22.25it/s]\n"
     ]
    },
    {
     "name": "stdout",
     "output_type": "stream",
     "text": [
      "Train Epoch: 35 \tLoss: 0.547371, Accuracy: 44346/60000 (74%)\n",
      "Val Epoch: 35 \tLoss: 0.500555, Accuracy: 15537/20000 (78%)\n",
      "\n"
     ]
    },
    {
     "name": "stderr",
     "output_type": "stream",
     "text": [
      "235it [00:10, 22.74it/s]\n"
     ]
    },
    {
     "name": "stdout",
     "output_type": "stream",
     "text": [
      "Train Epoch: 36 \tLoss: 0.549117, Accuracy: 44332/60000 (74%)\n",
      "Val Epoch: 36 \tLoss: 0.499142, Accuracy: 15520/20000 (78%)\n",
      "\n"
     ]
    },
    {
     "name": "stderr",
     "output_type": "stream",
     "text": [
      "235it [00:11, 20.38it/s]\n"
     ]
    },
    {
     "name": "stdout",
     "output_type": "stream",
     "text": [
      "Train Epoch: 37 \tLoss: 0.547639, Accuracy: 44415/60000 (74%)\n",
      "Val Epoch: 37 \tLoss: 0.502360, Accuracy: 15547/20000 (78%)\n",
      "\n"
     ]
    },
    {
     "name": "stderr",
     "output_type": "stream",
     "text": [
      "235it [00:11, 20.76it/s]\n"
     ]
    },
    {
     "name": "stdout",
     "output_type": "stream",
     "text": [
      "Train Epoch: 38 \tLoss: 0.548851, Accuracy: 44466/60000 (74%)\n",
      "Val Epoch: 38 \tLoss: 0.502230, Accuracy: 15531/20000 (78%)\n",
      "\n"
     ]
    },
    {
     "name": "stderr",
     "output_type": "stream",
     "text": [
      "235it [00:11, 20.86it/s]\n"
     ]
    },
    {
     "name": "stdout",
     "output_type": "stream",
     "text": [
      "Train Epoch: 39 \tLoss: 0.547837, Accuracy: 44465/60000 (74%)\n",
      "Val Epoch: 39 \tLoss: 0.503190, Accuracy: 15476/20000 (77%)\n",
      "\n"
     ]
    },
    {
     "name": "stderr",
     "output_type": "stream",
     "text": [
      "235it [00:11, 20.54it/s]\n"
     ]
    },
    {
     "name": "stdout",
     "output_type": "stream",
     "text": [
      "Train Epoch: 40 \tLoss: 0.546483, Accuracy: 44432/60000 (74%)\n",
      "Val Epoch: 40 \tLoss: 0.499967, Accuracy: 15524/20000 (78%)\n",
      "\n"
     ]
    },
    {
     "name": "stderr",
     "output_type": "stream",
     "text": [
      "235it [00:11, 21.22it/s]\n"
     ]
    },
    {
     "name": "stdout",
     "output_type": "stream",
     "text": [
      "Train Epoch: 41 \tLoss: 0.547961, Accuracy: 44464/60000 (74%)\n",
      "Val Epoch: 41 \tLoss: 0.500298, Accuracy: 15517/20000 (78%)\n",
      "\n"
     ]
    },
    {
     "name": "stderr",
     "output_type": "stream",
     "text": [
      "235it [00:10, 22.58it/s]\n"
     ]
    },
    {
     "name": "stdout",
     "output_type": "stream",
     "text": [
      "Train Epoch: 42 \tLoss: 0.549039, Accuracy: 44395/60000 (74%)\n",
      "Val Epoch: 42 \tLoss: 0.500936, Accuracy: 15550/20000 (78%)\n",
      "\n"
     ]
    },
    {
     "name": "stderr",
     "output_type": "stream",
     "text": [
      "235it [00:10, 22.72it/s]\n"
     ]
    },
    {
     "name": "stdout",
     "output_type": "stream",
     "text": [
      "Train Epoch: 43 \tLoss: 0.549578, Accuracy: 44504/60000 (74%)\n",
      "Val Epoch: 43 \tLoss: 0.499882, Accuracy: 15542/20000 (78%)\n",
      "\n"
     ]
    },
    {
     "name": "stderr",
     "output_type": "stream",
     "text": [
      "235it [00:11, 20.91it/s]\n"
     ]
    },
    {
     "name": "stdout",
     "output_type": "stream",
     "text": [
      "Train Epoch: 44 \tLoss: 0.545597, Accuracy: 44420/60000 (74%)\n",
      "Val Epoch: 44 \tLoss: 0.500191, Accuracy: 15507/20000 (78%)\n",
      "\n"
     ]
    },
    {
     "name": "stderr",
     "output_type": "stream",
     "text": [
      "235it [00:11, 20.56it/s]\n"
     ]
    },
    {
     "name": "stdout",
     "output_type": "stream",
     "text": [
      "Train Epoch: 45 \tLoss: 0.548269, Accuracy: 44443/60000 (74%)\n",
      "Val Epoch: 45 \tLoss: 0.498980, Accuracy: 15563/20000 (78%)\n",
      "\n"
     ]
    },
    {
     "name": "stderr",
     "output_type": "stream",
     "text": [
      "235it [00:11, 21.16it/s]\n"
     ]
    },
    {
     "name": "stdout",
     "output_type": "stream",
     "text": [
      "Train Epoch: 46 \tLoss: 0.552892, Accuracy: 44281/60000 (74%)\n",
      "Val Epoch: 46 \tLoss: 0.505372, Accuracy: 15493/20000 (77%)\n",
      "\n"
     ]
    },
    {
     "name": "stderr",
     "output_type": "stream",
     "text": [
      "235it [00:11, 21.15it/s]\n"
     ]
    },
    {
     "name": "stdout",
     "output_type": "stream",
     "text": [
      "Train Epoch: 47 \tLoss: 0.549935, Accuracy: 44398/60000 (74%)\n",
      "Val Epoch: 47 \tLoss: 0.505301, Accuracy: 15503/20000 (78%)\n",
      "\n"
     ]
    },
    {
     "name": "stderr",
     "output_type": "stream",
     "text": [
      "235it [00:11, 21.19it/s]\n"
     ]
    },
    {
     "name": "stdout",
     "output_type": "stream",
     "text": [
      "Train Epoch: 48 \tLoss: 0.552130, Accuracy: 44278/60000 (74%)\n",
      "Val Epoch: 48 \tLoss: 0.501516, Accuracy: 15553/20000 (78%)\n",
      "\n"
     ]
    },
    {
     "name": "stderr",
     "output_type": "stream",
     "text": [
      "235it [00:10, 22.66it/s]\n"
     ]
    },
    {
     "name": "stdout",
     "output_type": "stream",
     "text": [
      "Train Epoch: 49 \tLoss: 0.547716, Accuracy: 44494/60000 (74%)\n",
      "Val Epoch: 49 \tLoss: 0.502227, Accuracy: 15531/20000 (78%)\n",
      "\n"
     ]
    },
    {
     "name": "stderr",
     "output_type": "stream",
     "text": [
      "235it [00:11, 20.78it/s]\n"
     ]
    },
    {
     "name": "stdout",
     "output_type": "stream",
     "text": [
      "Train Epoch: 50 \tLoss: 0.548129, Accuracy: 44483/60000 (74%)\n",
      "Val Epoch: 50 \tLoss: 0.503801, Accuracy: 15467/20000 (77%)\n",
      "\n"
     ]
    },
    {
     "name": "stderr",
     "output_type": "stream",
     "text": [
      "235it [00:10, 22.03it/s]\n"
     ]
    },
    {
     "name": "stdout",
     "output_type": "stream",
     "text": [
      "Train Epoch: 51 \tLoss: 0.548678, Accuracy: 44437/60000 (74%)\n",
      "Val Epoch: 51 \tLoss: 0.501727, Accuracy: 15523/20000 (78%)\n",
      "\n"
     ]
    },
    {
     "name": "stderr",
     "output_type": "stream",
     "text": [
      "235it [00:10, 21.47it/s]\n"
     ]
    },
    {
     "name": "stdout",
     "output_type": "stream",
     "text": [
      "Train Epoch: 52 \tLoss: 0.549806, Accuracy: 44348/60000 (74%)\n",
      "Val Epoch: 52 \tLoss: 0.502058, Accuracy: 15481/20000 (77%)\n",
      "\n"
     ]
    },
    {
     "name": "stderr",
     "output_type": "stream",
     "text": [
      "235it [00:11, 20.44it/s]\n"
     ]
    },
    {
     "name": "stdout",
     "output_type": "stream",
     "text": [
      "Train Epoch: 53 \tLoss: 0.550503, Accuracy: 44342/60000 (74%)\n",
      "Val Epoch: 53 \tLoss: 0.501279, Accuracy: 15497/20000 (77%)\n",
      "\n"
     ]
    },
    {
     "name": "stderr",
     "output_type": "stream",
     "text": [
      "235it [00:11, 21.09it/s]\n"
     ]
    },
    {
     "name": "stdout",
     "output_type": "stream",
     "text": [
      "Train Epoch: 54 \tLoss: 0.550874, Accuracy: 44405/60000 (74%)\n",
      "Val Epoch: 54 \tLoss: 0.503009, Accuracy: 15526/20000 (78%)\n",
      "\n"
     ]
    },
    {
     "name": "stderr",
     "output_type": "stream",
     "text": [
      "235it [00:11, 21.19it/s]\n"
     ]
    },
    {
     "name": "stdout",
     "output_type": "stream",
     "text": [
      "Train Epoch: 55 \tLoss: 0.547364, Accuracy: 44456/60000 (74%)\n",
      "Val Epoch: 55 \tLoss: 0.501984, Accuracy: 15515/20000 (78%)\n",
      "\n"
     ]
    },
    {
     "name": "stderr",
     "output_type": "stream",
     "text": [
      "235it [00:10, 22.35it/s]\n"
     ]
    },
    {
     "name": "stdout",
     "output_type": "stream",
     "text": [
      "Train Epoch: 56 \tLoss: 0.548300, Accuracy: 44503/60000 (74%)\n",
      "Val Epoch: 56 \tLoss: 0.504661, Accuracy: 15435/20000 (77%)\n",
      "\n"
     ]
    },
    {
     "name": "stderr",
     "output_type": "stream",
     "text": [
      "235it [00:10, 23.10it/s]\n"
     ]
    },
    {
     "name": "stdout",
     "output_type": "stream",
     "text": [
      "Train Epoch: 57 \tLoss: 0.545585, Accuracy: 44525/60000 (74%)\n",
      "Val Epoch: 57 \tLoss: 0.504446, Accuracy: 15425/20000 (77%)\n",
      "\n"
     ]
    },
    {
     "name": "stderr",
     "output_type": "stream",
     "text": [
      "235it [00:10, 21.76it/s]\n"
     ]
    },
    {
     "name": "stdout",
     "output_type": "stream",
     "text": [
      "Train Epoch: 58 \tLoss: 0.549516, Accuracy: 44518/60000 (74%)\n",
      "Val Epoch: 58 \tLoss: 0.500567, Accuracy: 15446/20000 (77%)\n",
      "\n"
     ]
    },
    {
     "name": "stderr",
     "output_type": "stream",
     "text": [
      "235it [00:11, 20.55it/s]\n"
     ]
    },
    {
     "name": "stdout",
     "output_type": "stream",
     "text": [
      "Train Epoch: 59 \tLoss: 0.546153, Accuracy: 44582/60000 (74%)\n",
      "Val Epoch: 59 \tLoss: 0.503214, Accuracy: 15523/20000 (78%)\n",
      "\n"
     ]
    },
    {
     "name": "stderr",
     "output_type": "stream",
     "text": [
      "235it [00:11, 21.36it/s]\n"
     ]
    },
    {
     "name": "stdout",
     "output_type": "stream",
     "text": [
      "Train Epoch: 60 \tLoss: 0.546404, Accuracy: 44415/60000 (74%)\n",
      "Val Epoch: 60 \tLoss: 0.501058, Accuracy: 15536/20000 (78%)\n",
      "\n"
     ]
    },
    {
     "name": "stderr",
     "output_type": "stream",
     "text": [
      "235it [00:11, 21.18it/s]\n"
     ]
    },
    {
     "name": "stdout",
     "output_type": "stream",
     "text": [
      "Train Epoch: 61 \tLoss: 0.546572, Accuracy: 44512/60000 (74%)\n",
      "Val Epoch: 61 \tLoss: 0.502416, Accuracy: 15526/20000 (78%)\n",
      "\n"
     ]
    },
    {
     "name": "stderr",
     "output_type": "stream",
     "text": [
      "235it [00:11, 21.17it/s]\n"
     ]
    },
    {
     "name": "stdout",
     "output_type": "stream",
     "text": [
      "Train Epoch: 62 \tLoss: 0.547164, Accuracy: 44462/60000 (74%)\n",
      "Val Epoch: 62 \tLoss: 0.501142, Accuracy: 15531/20000 (78%)\n",
      "\n"
     ]
    },
    {
     "name": "stderr",
     "output_type": "stream",
     "text": [
      "235it [00:10, 23.29it/s]\n"
     ]
    },
    {
     "name": "stdout",
     "output_type": "stream",
     "text": [
      "Train Epoch: 63 \tLoss: 0.551011, Accuracy: 44423/60000 (74%)\n",
      "Val Epoch: 63 \tLoss: 0.500188, Accuracy: 15536/20000 (78%)\n",
      "\n"
     ]
    },
    {
     "name": "stderr",
     "output_type": "stream",
     "text": [
      "235it [00:10, 22.82it/s]\n"
     ]
    },
    {
     "name": "stdout",
     "output_type": "stream",
     "text": [
      "Train Epoch: 64 \tLoss: 0.546221, Accuracy: 44512/60000 (74%)\n",
      "Val Epoch: 64 \tLoss: 0.501973, Accuracy: 15456/20000 (77%)\n",
      "\n"
     ]
    },
    {
     "name": "stderr",
     "output_type": "stream",
     "text": [
      "235it [00:11, 21.24it/s]\n"
     ]
    },
    {
     "name": "stdout",
     "output_type": "stream",
     "text": [
      "Train Epoch: 65 \tLoss: 0.546898, Accuracy: 44540/60000 (74%)\n",
      "Val Epoch: 65 \tLoss: 0.500320, Accuracy: 15507/20000 (78%)\n",
      "\n"
     ]
    },
    {
     "name": "stderr",
     "output_type": "stream",
     "text": [
      "235it [00:11, 20.96it/s]\n"
     ]
    },
    {
     "name": "stdout",
     "output_type": "stream",
     "text": [
      "Train Epoch: 66 \tLoss: 0.545652, Accuracy: 44539/60000 (74%)\n",
      "Val Epoch: 66 \tLoss: 0.503787, Accuracy: 15460/20000 (77%)\n",
      "\n"
     ]
    },
    {
     "name": "stderr",
     "output_type": "stream",
     "text": [
      "235it [00:11, 20.05it/s]\n"
     ]
    },
    {
     "name": "stdout",
     "output_type": "stream",
     "text": [
      "Train Epoch: 67 \tLoss: 0.545013, Accuracy: 44625/60000 (74%)\n",
      "Val Epoch: 67 \tLoss: 0.500944, Accuracy: 15498/20000 (77%)\n",
      "\n"
     ]
    },
    {
     "name": "stderr",
     "output_type": "stream",
     "text": [
      "235it [00:11, 21.19it/s]\n"
     ]
    },
    {
     "name": "stdout",
     "output_type": "stream",
     "text": [
      "Train Epoch: 68 \tLoss: 0.547098, Accuracy: 44449/60000 (74%)\n",
      "Val Epoch: 68 \tLoss: 0.501102, Accuracy: 15542/20000 (78%)\n",
      "\n"
     ]
    },
    {
     "name": "stderr",
     "output_type": "stream",
     "text": [
      "235it [00:11, 21.36it/s]\n"
     ]
    },
    {
     "name": "stdout",
     "output_type": "stream",
     "text": [
      "Train Epoch: 69 \tLoss: 0.546413, Accuracy: 44452/60000 (74%)\n",
      "Val Epoch: 69 \tLoss: 0.501492, Accuracy: 15521/20000 (78%)\n",
      "\n"
     ]
    },
    {
     "name": "stderr",
     "output_type": "stream",
     "text": [
      "235it [00:10, 22.75it/s]\n"
     ]
    },
    {
     "name": "stdout",
     "output_type": "stream",
     "text": [
      "Train Epoch: 70 \tLoss: 0.544863, Accuracy: 44604/60000 (74%)\n",
      "Val Epoch: 70 \tLoss: 0.500223, Accuracy: 15475/20000 (77%)\n",
      "\n"
     ]
    },
    {
     "name": "stderr",
     "output_type": "stream",
     "text": [
      "235it [00:10, 22.85it/s]\n"
     ]
    },
    {
     "name": "stdout",
     "output_type": "stream",
     "text": [
      "Train Epoch: 71 \tLoss: 0.545060, Accuracy: 44580/60000 (74%)\n",
      "Val Epoch: 71 \tLoss: 0.499729, Accuracy: 15533/20000 (78%)\n",
      "\n"
     ]
    },
    {
     "name": "stderr",
     "output_type": "stream",
     "text": [
      "235it [00:11, 20.94it/s]\n"
     ]
    },
    {
     "name": "stdout",
     "output_type": "stream",
     "text": [
      "Train Epoch: 72 \tLoss: 0.547024, Accuracy: 44394/60000 (74%)\n",
      "Val Epoch: 72 \tLoss: 0.501952, Accuracy: 15523/20000 (78%)\n",
      "\n"
     ]
    },
    {
     "name": "stderr",
     "output_type": "stream",
     "text": [
      "235it [00:12, 19.41it/s]\n"
     ]
    },
    {
     "name": "stdout",
     "output_type": "stream",
     "text": [
      "Train Epoch: 73 \tLoss: 0.545602, Accuracy: 44525/60000 (74%)\n",
      "Val Epoch: 73 \tLoss: 0.503388, Accuracy: 15479/20000 (77%)\n",
      "\n"
     ]
    },
    {
     "name": "stderr",
     "output_type": "stream",
     "text": [
      "235it [00:12, 18.61it/s]\n"
     ]
    },
    {
     "name": "stdout",
     "output_type": "stream",
     "text": [
      "Train Epoch: 74 \tLoss: 0.547293, Accuracy: 44517/60000 (74%)\n",
      "Val Epoch: 74 \tLoss: 0.504350, Accuracy: 15395/20000 (77%)\n",
      "\n"
     ]
    },
    {
     "name": "stderr",
     "output_type": "stream",
     "text": [
      "235it [00:11, 20.66it/s]\n"
     ]
    },
    {
     "name": "stdout",
     "output_type": "stream",
     "text": [
      "Train Epoch: 75 \tLoss: 0.547176, Accuracy: 44538/60000 (74%)\n",
      "Val Epoch: 75 \tLoss: 0.503129, Accuracy: 15501/20000 (78%)\n",
      "\n"
     ]
    },
    {
     "name": "stderr",
     "output_type": "stream",
     "text": [
      "235it [00:12, 19.15it/s]\n"
     ]
    },
    {
     "name": "stdout",
     "output_type": "stream",
     "text": [
      "Train Epoch: 76 \tLoss: 0.545662, Accuracy: 44488/60000 (74%)\n",
      "Val Epoch: 76 \tLoss: 0.504676, Accuracy: 15481/20000 (77%)\n",
      "\n"
     ]
    },
    {
     "name": "stderr",
     "output_type": "stream",
     "text": [
      "235it [00:13, 17.25it/s]\n"
     ]
    },
    {
     "name": "stdout",
     "output_type": "stream",
     "text": [
      "Train Epoch: 77 \tLoss: 0.545375, Accuracy: 44613/60000 (74%)\n",
      "Val Epoch: 77 \tLoss: 0.498501, Accuracy: 15539/20000 (78%)\n",
      "\n"
     ]
    },
    {
     "name": "stderr",
     "output_type": "stream",
     "text": [
      "235it [00:13, 17.70it/s]\n"
     ]
    },
    {
     "name": "stdout",
     "output_type": "stream",
     "text": [
      "Train Epoch: 78 \tLoss: 0.546474, Accuracy: 44501/60000 (74%)\n",
      "Val Epoch: 78 \tLoss: 0.500910, Accuracy: 15512/20000 (78%)\n",
      "\n"
     ]
    },
    {
     "name": "stderr",
     "output_type": "stream",
     "text": [
      "235it [00:13, 18.04it/s]\n"
     ]
    },
    {
     "name": "stdout",
     "output_type": "stream",
     "text": [
      "Train Epoch: 79 \tLoss: 0.544995, Accuracy: 44501/60000 (74%)\n",
      "Val Epoch: 79 \tLoss: 0.499360, Accuracy: 15533/20000 (78%)\n",
      "\n"
     ]
    },
    {
     "name": "stderr",
     "output_type": "stream",
     "text": [
      "235it [00:16, 13.88it/s]\n"
     ]
    },
    {
     "name": "stdout",
     "output_type": "stream",
     "text": [
      "Train Epoch: 80 \tLoss: 0.546019, Accuracy: 44592/60000 (74%)\n",
      "Val Epoch: 80 \tLoss: 0.501673, Accuracy: 15481/20000 (77%)\n",
      "\n"
     ]
    },
    {
     "name": "stderr",
     "output_type": "stream",
     "text": [
      "235it [00:18, 12.73it/s]\n"
     ]
    },
    {
     "name": "stdout",
     "output_type": "stream",
     "text": [
      "Train Epoch: 81 \tLoss: 0.545649, Accuracy: 44618/60000 (74%)\n",
      "Val Epoch: 81 \tLoss: 0.499881, Accuracy: 15545/20000 (78%)\n",
      "\n"
     ]
    },
    {
     "name": "stderr",
     "output_type": "stream",
     "text": [
      "235it [00:19, 12.10it/s]\n"
     ]
    },
    {
     "name": "stdout",
     "output_type": "stream",
     "text": [
      "Train Epoch: 82 \tLoss: 0.545447, Accuracy: 44533/60000 (74%)\n",
      "Val Epoch: 82 \tLoss: 0.498604, Accuracy: 15544/20000 (78%)\n",
      "\n"
     ]
    },
    {
     "name": "stderr",
     "output_type": "stream",
     "text": [
      "235it [00:11, 19.59it/s]\n"
     ]
    },
    {
     "name": "stdout",
     "output_type": "stream",
     "text": [
      "Train Epoch: 83 \tLoss: 0.546317, Accuracy: 44476/60000 (74%)\n",
      "Val Epoch: 83 \tLoss: 0.500355, Accuracy: 15514/20000 (78%)\n",
      "\n"
     ]
    },
    {
     "name": "stderr",
     "output_type": "stream",
     "text": [
      "235it [00:11, 19.67it/s]\n"
     ]
    },
    {
     "name": "stdout",
     "output_type": "stream",
     "text": [
      "Train Epoch: 84 \tLoss: 0.547467, Accuracy: 44589/60000 (74%)\n",
      "Val Epoch: 84 \tLoss: 0.505016, Accuracy: 15476/20000 (77%)\n",
      "\n"
     ]
    },
    {
     "name": "stderr",
     "output_type": "stream",
     "text": [
      "235it [00:13, 17.14it/s]\n"
     ]
    },
    {
     "name": "stdout",
     "output_type": "stream",
     "text": [
      "Train Epoch: 85 \tLoss: 0.544287, Accuracy: 44629/60000 (74%)\n",
      "Val Epoch: 85 \tLoss: 0.506393, Accuracy: 15457/20000 (77%)\n",
      "\n"
     ]
    },
    {
     "name": "stderr",
     "output_type": "stream",
     "text": [
      "235it [00:12, 19.30it/s]\n"
     ]
    },
    {
     "name": "stdout",
     "output_type": "stream",
     "text": [
      "Train Epoch: 86 \tLoss: 0.544930, Accuracy: 44520/60000 (74%)\n",
      "Val Epoch: 86 \tLoss: 0.500712, Accuracy: 15512/20000 (78%)\n",
      "\n"
     ]
    },
    {
     "name": "stderr",
     "output_type": "stream",
     "text": [
      "235it [00:11, 20.90it/s]\n"
     ]
    },
    {
     "name": "stdout",
     "output_type": "stream",
     "text": [
      "Train Epoch: 87 \tLoss: 0.547876, Accuracy: 44552/60000 (74%)\n",
      "Val Epoch: 87 \tLoss: 0.501679, Accuracy: 15472/20000 (77%)\n",
      "\n"
     ]
    },
    {
     "name": "stderr",
     "output_type": "stream",
     "text": [
      "235it [00:12, 18.72it/s]\n"
     ]
    },
    {
     "name": "stdout",
     "output_type": "stream",
     "text": [
      "Train Epoch: 88 \tLoss: 0.546323, Accuracy: 44598/60000 (74%)\n",
      "Val Epoch: 88 \tLoss: 0.499911, Accuracy: 15517/20000 (78%)\n",
      "\n"
     ]
    },
    {
     "name": "stderr",
     "output_type": "stream",
     "text": [
      "235it [00:11, 21.26it/s]\n"
     ]
    },
    {
     "name": "stdout",
     "output_type": "stream",
     "text": [
      "Train Epoch: 89 \tLoss: 0.545950, Accuracy: 44483/60000 (74%)\n",
      "Val Epoch: 89 \tLoss: 0.501495, Accuracy: 15497/20000 (77%)\n",
      "\n"
     ]
    },
    {
     "name": "stderr",
     "output_type": "stream",
     "text": [
      "235it [00:10, 21.74it/s]\n"
     ]
    },
    {
     "name": "stdout",
     "output_type": "stream",
     "text": [
      "Train Epoch: 90 \tLoss: 0.546176, Accuracy: 44554/60000 (74%)\n",
      "Val Epoch: 90 \tLoss: 0.507722, Accuracy: 15380/20000 (77%)\n",
      "\n"
     ]
    },
    {
     "name": "stderr",
     "output_type": "stream",
     "text": [
      "235it [00:10, 22.74it/s]\n"
     ]
    },
    {
     "name": "stdout",
     "output_type": "stream",
     "text": [
      "Train Epoch: 91 \tLoss: 0.546760, Accuracy: 44565/60000 (74%)\n",
      "Val Epoch: 91 \tLoss: 0.502890, Accuracy: 15458/20000 (77%)\n",
      "\n"
     ]
    },
    {
     "name": "stderr",
     "output_type": "stream",
     "text": [
      "235it [00:10, 21.98it/s]\n"
     ]
    },
    {
     "name": "stdout",
     "output_type": "stream",
     "text": [
      "Train Epoch: 92 \tLoss: 0.547278, Accuracy: 44612/60000 (74%)\n",
      "Val Epoch: 92 \tLoss: 0.499900, Accuracy: 15528/20000 (78%)\n",
      "\n"
     ]
    },
    {
     "name": "stderr",
     "output_type": "stream",
     "text": [
      "235it [00:11, 20.36it/s]\n"
     ]
    },
    {
     "name": "stdout",
     "output_type": "stream",
     "text": [
      "Train Epoch: 93 \tLoss: 0.544569, Accuracy: 44680/60000 (74%)\n",
      "Val Epoch: 93 \tLoss: 0.501537, Accuracy: 15456/20000 (77%)\n",
      "\n"
     ]
    },
    {
     "name": "stderr",
     "output_type": "stream",
     "text": [
      "235it [00:11, 20.78it/s]\n"
     ]
    },
    {
     "name": "stdout",
     "output_type": "stream",
     "text": [
      "Train Epoch: 94 \tLoss: 0.547035, Accuracy: 44468/60000 (74%)\n",
      "Val Epoch: 94 \tLoss: 0.502645, Accuracy: 15497/20000 (77%)\n",
      "\n"
     ]
    },
    {
     "name": "stderr",
     "output_type": "stream",
     "text": [
      "235it [00:11, 21.04it/s]\n"
     ]
    },
    {
     "name": "stdout",
     "output_type": "stream",
     "text": [
      "Train Epoch: 95 \tLoss: 0.545827, Accuracy: 44515/60000 (74%)\n",
      "Val Epoch: 95 \tLoss: 0.503716, Accuracy: 15471/20000 (77%)\n",
      "\n"
     ]
    },
    {
     "name": "stderr",
     "output_type": "stream",
     "text": [
      "235it [00:11, 20.22it/s]\n"
     ]
    },
    {
     "name": "stdout",
     "output_type": "stream",
     "text": [
      "Train Epoch: 96 \tLoss: 0.547086, Accuracy: 44535/60000 (74%)\n",
      "Val Epoch: 96 \tLoss: 0.503202, Accuracy: 15477/20000 (77%)\n",
      "\n"
     ]
    },
    {
     "name": "stderr",
     "output_type": "stream",
     "text": [
      "235it [00:10, 21.45it/s]\n"
     ]
    },
    {
     "name": "stdout",
     "output_type": "stream",
     "text": [
      "Train Epoch: 97 \tLoss: 0.539099, Accuracy: 44732/60000 (75%)\n",
      "Val Epoch: 97 \tLoss: 0.499553, Accuracy: 15520/20000 (78%)\n",
      "\n"
     ]
    },
    {
     "name": "stderr",
     "output_type": "stream",
     "text": [
      "235it [00:10, 22.86it/s]\n"
     ]
    },
    {
     "name": "stdout",
     "output_type": "stream",
     "text": [
      "Train Epoch: 98 \tLoss: 0.538119, Accuracy: 44825/60000 (75%)\n",
      "Val Epoch: 98 \tLoss: 0.496789, Accuracy: 15528/20000 (78%)\n",
      "\n"
     ]
    },
    {
     "name": "stderr",
     "output_type": "stream",
     "text": [
      "235it [00:10, 23.01it/s]\n"
     ]
    },
    {
     "name": "stdout",
     "output_type": "stream",
     "text": [
      "Train Epoch: 99 \tLoss: 0.536484, Accuracy: 44946/60000 (75%)\n",
      "Val Epoch: 99 \tLoss: 0.497538, Accuracy: 15541/20000 (78%)\n",
      "\n"
     ]
    }
   ],
   "source": [
    "optimizer = Adam(model.parameters(), lr=1e-3, weight_decay=1e-12)\n",
    "lossFn = BCEWithLogitsLoss()\n",
    "history = train_model(model, optimizer, lossFn, epochs, lr, train_dataloader, val_dataloader)"
   ]
  },
  {
   "cell_type": "code",
   "execution_count": 78,
   "id": "1acc5f71",
   "metadata": {},
   "outputs": [
    {
     "data": {
      "image/png": "[encoded data removed]",
      "text/plain": [
       "<Figure size 640x480 with 1 Axes>"
      ]
     },
     "metadata": {},
     "output_type": "display_data"
    }
   ],
   "source": [
    "x = range(epochs)\n",
    "plt.plot(x, history['train_loss'], label='Train loss')\n",
    "plt.plot(x, history['val_loss'], label='Val loss')\n",
    "plt.plot(x, np.array(history['train_acc'])/100, label='Train accuracy')\n",
    "plt.plot(x, np.array(history['val_acc'])/100, label='Val accuracy')\n",
    "\n",
    "plt.legend()\n",
    "plt.show()"
   ]
  },
  {
   "cell_type": "markdown",
   "id": "652e8094",
   "metadata": {},
   "source": [
    "Test accuracy"
   ]
  },
  {
   "cell_type": "code",
   "execution_count": 79,
   "id": "ce0898af",
   "metadata": {
    "scrolled": true
   },
   "outputs": [
    {
     "name": "stdout",
     "output_type": "stream",
     "text": [
      "tensor(77.5650)\n"
     ]
    }
   ],
   "source": [
    "preds = []\n",
    "labels = []\n",
    "acc = 0\n",
    "for data in test_dataloader:\n",
    "        \n",
    "    target = data.y\n",
    "    labels += target\n",
    "\n",
    "    output = model(data.x, data.edge_index.type(torch.int64), data.batch)    \n",
    "    probs = Sigmoid()(output).detach()\n",
    "    preds += copy.deepcopy(probs)\n",
    "\n",
    "    target = target.unsqueeze(1).float()    \n",
    "    pred = (output > 0).float()    \n",
    "    acc += (pred == target).sum()\n",
    "\n",
    "acc = 100. * acc / len(test_dataloader.dataset)\n",
    "print(acc)"
   ]
  },
  {
   "cell_type": "code",
   "execution_count": 80,
   "id": "e544b720",
   "metadata": {
    "scrolled": false
   },
   "outputs": [
    {
     "name": "stderr",
     "output_type": "stream",
     "text": [
      "C:\\Users\\HAEMANTH\\anaconda3\\envs\\py311\\Lib\\site-packages\\sklearn\\utils\\_array_api.py:380: FutureWarning: The input object of type 'Tensor' is an array-like implementing one of the corresponding protocols (`__array__`, `__array_interface__` or `__array_struct__`); but not a sequence (or 0-D). In the future, this object will be coerced as if it was first converted using `np.array(obj)`. To retain the old behaviour, you have to either modify the type 'Tensor', or assign to an empty array created with `np.empty(correct_shape, dtype=object)`.\n",
      "  array = numpy.asarray(array, order=order, dtype=dtype)\n",
      "C:\\Users\\HAEMANTH\\anaconda3\\envs\\py311\\Lib\\site-packages\\sklearn\\utils\\_array_api.py:380: VisibleDeprecationWarning: Creating an ndarray from ragged nested sequences (which is a list-or-tuple of lists-or-tuples-or ndarrays with different lengths or shapes) is deprecated. If you meant to do this, you must specify 'dtype=object' when creating the ndarray.\n",
      "  array = numpy.asarray(array, order=order, dtype=dtype)\n",
      "C:\\Users\\HAEMANTH\\anaconda3\\envs\\py311\\Lib\\site-packages\\sklearn\\utils\\_array_api.py:380: FutureWarning: The input object of type 'Tensor' is an array-like implementing one of the corresponding protocols (`__array__`, `__array_interface__` or `__array_struct__`); but not a sequence (or 0-D). In the future, this object will be coerced as if it was first converted using `np.array(obj)`. To retain the old behaviour, you have to either modify the type 'Tensor', or assign to an empty array created with `np.empty(correct_shape, dtype=object)`.\n",
      "  array = numpy.asarray(array, order=order, dtype=dtype)\n",
      "C:\\Users\\HAEMANTH\\anaconda3\\envs\\py311\\Lib\\site-packages\\sklearn\\utils\\_array_api.py:380: VisibleDeprecationWarning: Creating an ndarray from ragged nested sequences (which is a list-or-tuple of lists-or-tuples-or ndarrays with different lengths or shapes) is deprecated. If you meant to do this, you must specify 'dtype=object' when creating the ndarray.\n",
      "  array = numpy.asarray(array, order=order, dtype=dtype)\n"
     ]
    },
    {
     "data": {
      "image/png": "[encoded data removed]",
      "text/plain": [
       "<Figure size 640x480 with 1 Axes>"
      ]
     },
     "metadata": {},
     "output_type": "display_data"
    }
   ],
   "source": [
    "auc = roc_auc_score(labels, preds)\n",
    "fpr, tpr, _ = roc_curve(labels, preds)\n",
    "plt.plot(fpr, tpr, label=\"AUC = {0}\".format(auc))\n",
    "plt.xlabel('False Positive Rate')\n",
    "plt.ylabel('True Positive Rate')\n",
    "plt.legend()\n",
    "plt.show()"
   ]
  },
  {
   "cell_type": "code",
   "execution_count": null,
   "id": "219f0adb",
   "metadata": {},
   "outputs": [],
   "source": []
  }
 ],
 "metadata": {
  "kernelspec": {
   "display_name": "Python 3 (ipykernel)",
   "language": "python",
   "name": "python3"
  },
  "language_info": {
   "codemirror_mode": {
    "name": "ipython",
    "version": 3
   },
   "file_extension": ".py",
   "mimetype": "text/x-python",
   "name": "python",
   "nbconvert_exporter": "python",
   "pygments_lexer": "ipython3",
   "version": "3.11.5"
  }
 },
 "nbformat": 4,
 "nbformat_minor": 5
}
